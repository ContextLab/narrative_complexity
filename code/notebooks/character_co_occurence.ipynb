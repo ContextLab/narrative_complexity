{
 "cells": [
  {
   "cell_type": "code",
   "execution_count": null,
   "metadata": {},
   "outputs": [],
   "source": [
    "import os\n",
    "import seaborn as sns\n",
    "import pandas as pd\n",
    "import numpy as np\n",
    "import itertools\n",
    "import matplotlib.pyplot as plt\n",
    "import nltk\n",
    "\n",
    "%matplotlib inline"
   ]
  },
  {
   "cell_type": "code",
   "execution_count": null,
   "metadata": {},
   "outputs": [],
   "source": [
    "# this will be the file that feature extractor notebook generates for each script\n",
    "out_fn = '/Users/vassiki/Desktop/narrative_complexity/code/notebooks/annotations_with_char_embeddings.csv'\n",
    "out_df = pd.read_csv(out_fn)"
   ]
  },
  {
   "cell_type": "code",
   "execution_count": null,
   "metadata": {},
   "outputs": [],
   "source": [
    "def get_chars_from_df(out_df):   \n",
    "    \"\"\"\n",
    "    Function to clean up unique list of characters, will be redundant after\n",
    "    the feature extraction notebook is updated\n",
    "    \n",
    "    Parameters\n",
    "    ----------\n",
    "    out_df: output csv for each script with segmented events as rows\n",
    "    \n",
    "    Returns\n",
    "    -------\n",
    "    characters: 2d list of unique characters in each event\n",
    "    \"\"\"\n",
    "    characters = []\n",
    "    for row in range(out_df.shape[0]):\n",
    "    \n",
    "        character_per_event = eval(out_df.loc[row, 'characters'])\n",
    "        unique_chars_events = character_per_event.keys()\n",
    "        chars_ev = [' '.join(c.split()) for c in list(unique_chars_events)]\n",
    "        first_name = [c.split(' ')[0] for c in chars_ev]\n",
    "        unique_first = list(dict.fromkeys(first_name))\n",
    "        # pos tag\n",
    "        pos_tag_names = nltk.pos_tag(unique_first)\n",
    "        noun_names = [n[0] for n in pos_tag_names if 'VB' not in n[1]]\n",
    "\n",
    "        characters.append(noun_names)\n",
    "    return characters"
   ]
  },
  {
   "cell_type": "code",
   "execution_count": null,
   "metadata": {},
   "outputs": [],
   "source": [
    "def get_cooccurence_matrix_one_event(characters, event_num=0):\n",
    "    \"\"\"\n",
    "    Function to create cooccurence matrix for all characters in an event.\n",
    "    \n",
    "    Parameters\n",
    "    ----------\n",
    "    characters: 2d list of unique characters in each event\n",
    "    event_num: default 0, row number of event to return cooccurence matrix for\n",
    "    \n",
    "    Returns\n",
    "    -------\n",
    "    co_occurence_df: unique char by unique char dataframe with tallies\n",
    "                        for character cooccurences\n",
    "    \"\"\"\n",
    "    chars = list(dict.fromkeys(sum(characters,[])))\n",
    "    total_array_size = len(chars)\n",
    "    co_occurence_array = np.zeros((total_array_size, total_array_size))\n",
    "    co_occurence_df = pd.DataFrame(co_occurence_array, columns = chars, index=chars)\n",
    "    all_pairs = list(itertools.combinations(characters[event_num], 2))\n",
    "    \n",
    "    for pair in all_pairs:\n",
    "        co_occurence_df.loc[pair[0], pair[1]] += 1\n",
    "    return co_occurence_df"
   ]
  },
  {
   "cell_type": "code",
   "execution_count": null,
   "metadata": {},
   "outputs": [],
   "source": [
    "def get_cooccurence_matrix_all_events(characters):\n",
    "    \"\"\"\n",
    "    Function to create cooccurence matrix across all events\n",
    "    \n",
    "    Parameters\n",
    "    ----------\n",
    "    characters: 2d list of unique characters in each event\n",
    "    \n",
    "    Returns\n",
    "    -------\n",
    "    co_occurence_df: character by character cooccurence matrix across\n",
    "                        all events\n",
    "    \"\"\"\n",
    "    chars = list(dict.fromkeys(sum(characters,[])))\n",
    "    total_array_size = len(chars)\n",
    "    co_occurence_array = np.zeros((total_array_size, total_array_size))\n",
    "    co_occurence_df = pd.DataFrame(co_occurence_array, columns = chars, index=chars)\n",
    "    for event_chars in range(len(characters)):\n",
    "        all_pairs = list(itertools.combinations(characters[event_chars], 2))\n",
    "        for pair in all_pairs:\n",
    "            co_occurence_df.loc[pair[0], pair[1]] += 1\n",
    "    return co_occurence_df"
   ]
  },
  {
   "cell_type": "code",
   "execution_count": null,
   "metadata": {},
   "outputs": [],
   "source": [
    "def plot_one_event_cooccurence(fn, chars, num=0):\n",
    "    \"\"\"\n",
    "    Function to plot each event's cooccurence matrix\n",
    "    \n",
    "    Parameters:\n",
    "    fn: filename to save the co-occurence plot with\n",
    "    chars: 2d list of unique characters in each event \n",
    "    num: default 0, event number\n",
    "    \"\"\"\n",
    "    cdf  = get_cooccurence_matrix_one_event(chars, num)\n",
    "    l = list(cdf.columns)\n",
    "    plt.subplots(figsize=(20,15))\n",
    "    sns.heatmap(cdf, xticklabels=l, yticklabels=l)\n",
    "    plt.savefig(fn, bbox_inches = \"tight\")"
   ]
  },
  {
   "cell_type": "code",
   "execution_count": null,
   "metadata": {},
   "outputs": [],
   "source": [
    "def plot_all_events_cooccurence(fn, chars):\n",
    "    \"\"\"\n",
    "    Function to plot cooccurence matrix across all events\n",
    "    \n",
    "    Parameters:\n",
    "    fn: filename to save the co-occurence plot with\n",
    "    chars: 2d list of unique characters in each event\n",
    "    \"\"\"    \n",
    "    cca = get_cooccurence_matrix_all_events(chars)\n",
    "    labels = list(cca.columns)\n",
    "    plt.subplots(figsize=(20,15))\n",
    "    sns.heatmap(cca, xticklabels=labels, yticklabels=labels)\n",
    "    plt.savefig(fn, bbox_inches = \"tight\")"
   ]
  },
  {
   "cell_type": "code",
   "execution_count": null,
   "metadata": {},
   "outputs": [],
   "source": [
    "# generate plot for all events\n",
    "characters = get_chars_from_df(out_df)\n",
    "root_dir = '/Users/vassiki/Desktop/narrative_complexity/notebooks/figures/'\n",
    "fn = os.path.join(root_dir, 'character_occurence.png')\n",
    "plot_all_events_cooccurence(fn, characters)"
   ]
  },
  {
   "cell_type": "code",
   "execution_count": null,
   "metadata": {},
   "outputs": [],
   "source": [
    "# generate plot for one event at a time\n",
    "characters = get_chars_from_df(out_df)\n",
    "root_dir = '/Users/vassiki/Desktop/narrative_complexity/notebooks/figures/'\n",
    "for event_num in range(len(characters)):\n",
    "    fn = os.path.join(root_dir, 'character_occurence_event_{0}.png'.format(event_num))\n",
    "    plot_one_event_cooccurence(fn, characters, event_num)"
   ]
  },
  {
   "cell_type": "markdown",
   "metadata": {},
   "source": [
    "Run `convert -delay 10 -loop 0 *event*.png cooccurence.gif` in bash to generate gif from all events from the figures subdirectory"
   ]
  }
 ],
 "metadata": {
  "kernelspec": {
   "display_name": "Python 3",
   "language": "python",
   "name": "python3"
  },
  "language_info": {
   "codemirror_mode": {
    "name": "ipython",
    "version": 3
   },
   "file_extension": ".py",
   "mimetype": "text/x-python",
   "name": "python",
   "nbconvert_exporter": "python",
   "pygments_lexer": "ipython3",
   "version": "3.7.4"
  }
 },
 "nbformat": 4,
 "nbformat_minor": 4
}
