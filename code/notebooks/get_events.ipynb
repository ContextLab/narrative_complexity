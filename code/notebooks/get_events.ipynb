{
 "cells": [
  {
   "cell_type": "markdown",
   "metadata": {},
   "source": [
    "## imports"
   ]
  },
  {
   "cell_type": "code",
   "execution_count": 1,
   "metadata": {
    "ExecuteTime": {
     "end_time": "2019-08-11T17:08:18.401921Z",
     "start_time": "2019-08-11T17:08:15.132367Z"
    },
    "collapsed": true
   },
   "outputs": [],
   "source": [
    "import os\n",
    "import re\n",
    "import nltk\n",
    "import html2text\n",
    "import markdown\n",
    "import numpy as np\n",
    "import pandas as pd\n",
    "import brainiak.eventseg.event as event\n",
    "import hypertools.tools.format_data as fit_transform\n",
    "from num2words import num2words\n",
    "from bs4 import BeautifulSoup\n",
    "from downloader import download_file_from_google_drive as dl\n",
    "\n",
    "import matplotlib.pyplot as plt\n",
    "%matplotlib inline"
   ]
  },
  {
   "cell_type": "code",
   "execution_count": 2,
   "metadata": {
    "ExecuteTime": {
     "end_time": "2019-08-11T17:08:18.566630Z",
     "start_time": "2019-08-11T17:08:18.403423Z"
    }
   },
   "outputs": [
    {
     "name": "stderr",
     "output_type": "stream",
     "text": [
      "[nltk_data] Downloading package stopwords to\n",
      "[nltk_data]     /Users/paxtonfitzpatrick/nltk_data...\n",
      "[nltk_data]   Package stopwords is already up-to-date!\n"
     ]
    }
   ],
   "source": [
    "nltk.download('stopwords')\n",
    "from nltk.corpus import stopwords as sw"
   ]
  },
  {
   "cell_type": "markdown",
   "metadata": {},
   "source": [
    "### topic modeling parameters"
   ]
  },
  {
   "cell_type": "code",
   "execution_count": 3,
   "metadata": {
    "ExecuteTime": {
     "end_time": "2019-08-11T17:08:18.575655Z",
     "start_time": "2019-08-11T17:08:18.568060Z"
    }
   },
   "outputs": [],
   "source": [
    "n_topics = 100\n",
    "video_wsize = 50 # sentences \n",
    "\n",
    "# vectorizer parameters\n",
    "vectorizer_params = {\n",
    "    'model' : 'CountVectorizer', \n",
    "    'params' : {\n",
    "        'stop_words' : sw.words('english')\n",
    "    }\n",
    "}\n",
    "\n",
    "# topic model parameters\n",
    "semantic_params = {\n",
    "    'model' : 'LatentDirichletAllocation', \n",
    "    'params' : {\n",
    "        'n_components' : n_topics,\n",
    "        'learning_method' : 'batch',\n",
    "        'random_state' : 0,\n",
    "    }\n",
    "}"
   ]
  },
  {
   "cell_type": "markdown",
   "metadata": {},
   "source": [
    "## functions"
   ]
  },
  {
   "cell_type": "code",
   "execution_count": 4,
   "metadata": {
    "ExecuteTime": {
     "end_time": "2019-08-11T17:08:18.604986Z",
     "start_time": "2019-08-11T17:08:18.582633Z"
    },
    "collapsed": true
   },
   "outputs": [],
   "source": [
    "def wipe_formatting(script, rehtml=False):\n",
    "    parser = html2text.HTML2Text()\n",
    "    parser.wrap_links = True\n",
    "    parser.skip_internal_links = True\n",
    "    parser.inline_links = True\n",
    "    parser.ignore_anchors = True\n",
    "    parser.ignore_images = True\n",
    "    parser.ignore_emphasis = True\n",
    "    parser.ignore_links = True\n",
    "    text = parser.handle(script)\n",
    "    text = text.strip(' \\t\\n\\r')\n",
    "    if rehtml:\n",
    "        text = text.replace('\\n', '<br/>')\n",
    "        text = text.replace('\\\\', '')\n",
    "    md = markdown.markdown(text)\n",
    "    soup=BeautifulSoup(md,'html5lib')\n",
    "    soup=soup.get_text()\n",
    "    soup = soup.replace('\\n', ' ')\n",
    "    return soup"
   ]
  },
  {
   "cell_type": "code",
   "execution_count": 5,
   "metadata": {
    "ExecuteTime": {
     "end_time": "2019-08-11T17:08:18.621003Z",
     "start_time": "2019-08-11T17:08:18.606601Z"
    },
    "collapsed": true
   },
   "outputs": [],
   "source": [
    "def load_data(filepath, fileid):\n",
    "    data_dir = os.path.dirname(filepath)\n",
    "    \n",
    "    if not os.path.exists(data_dir):\n",
    "        os.makedirs(data_dir)\n",
    "    \n",
    "    if not os.path.exists(filepath):\n",
    "        print('downloading data...')\n",
    "        dl(fileid, filepath)\n",
    "        \n",
    "    print('loading data...')\n",
    "    data = pd.read_csv(filepath)\n",
    "    return data.dropna(subset=['script'])"
   ]
  },
  {
   "cell_type": "code",
   "execution_count": 24,
   "metadata": {
    "ExecuteTime": {
     "end_time": "2019-08-11T17:10:36.116198Z",
     "start_time": "2019-08-11T17:10:36.110114Z"
    },
    "collapsed": true
   },
   "outputs": [],
   "source": [
    "def cleanup_text(transcript):\n",
    "    lower_nopunc = re.sub(\"[^\\w\\s.]+\", '', transcript.lower())    # remove all punctuation except periods (deliminers)\n",
    "    no_digit = re.sub(r\"(\\d+)\", lambda x: num2words(int(x.group(0))), lower_nopunc)    # convert digits to words\n",
    "    spaced = ' '.join(no_digit.replace(',', ' ').split())    # deal with inconsistent whitespace\n",
    "    return spaced"
   ]
  },
  {
   "cell_type": "code",
   "execution_count": 46,
   "metadata": {
    "ExecuteTime": {
     "end_time": "2019-08-11T17:15:25.673742Z",
     "start_time": "2019-08-11T17:15:25.665819Z"
    },
    "collapsed": true
   },
   "outputs": [],
   "source": [
    "def get_windows(transcript, wsize=video_wsize):\n",
    "    cleaned = cleanup_text(wipe_formatting(transcript))\n",
    "    text_list = cleaned.split('.')\n",
    "    video_w = []\n",
    "    \n",
    "    for ix, sentence in enumerate(text_list):\n",
    "        video_w.append(' '.join(text_list[ix:ix+wsize]))\n",
    "        \n",
    "    return video_w"
   ]
  },
  {
   "cell_type": "code",
   "execution_count": 76,
   "metadata": {
    "ExecuteTime": {
     "end_time": "2019-08-11T17:20:16.368870Z",
     "start_time": "2019-08-11T17:20:16.358225Z"
    },
    "collapsed": true
   },
   "outputs": [],
   "source": [
    "def topic_model(transcript, vec_params=vectorizer_params, sem_params=semantic_params, return_windows=False):\n",
    "    windows = get_windows(transcript)\n",
    "    # handle movies with missing or useless transcripts\n",
    "    if len(windows) < 10:\n",
    "        return np.nan\n",
    "    \n",
    "    traj = fit_transform(windows, vectorizer=vec_params, semantic=sem_params, corpus=windows)[0]\n",
    "    \n",
    "    if return_windows:\n",
    "        return traj, windows\n",
    "    else:\n",
    "        return traj"
   ]
  },
  {
   "cell_type": "code",
   "execution_count": 123,
   "metadata": {
    "ExecuteTime": {
     "end_time": "2019-08-11T17:43:24.023576Z",
     "start_time": "2019-08-11T17:43:23.998034Z"
    },
    "collapsed": true
   },
   "outputs": [],
   "source": [
    "def optimize_k(trajectory, ks_list):\n",
    "    corrmat = np.corrcoef(trajectory)\n",
    "    scores = []\n",
    "    \n",
    "    for k in ks_list:\n",
    "        ev = event.EventSegment(k)\n",
    "        ev.fit(trajectory)\n",
    "        w = np.round(ev.segments_[0]).astype(int)\n",
    "        mask = np.sum(list(map(lambda x: np.outer(x, x), w.T)), 0).astype(bool)\n",
    "        within = corrmat[mask].mean()\n",
    "        across = corrmat[~mask].mean()\n",
    "        scores.append((within, across))\n",
    "        \n",
    "    t = list(map(lambda x: x[0]/(x[1]-(scores[0][0]/scores[0][1])), scores))\n",
    "    t /= np.max(t)\n",
    "    ratios = list(map(lambda x: x - k/(5*video_wsize), t))\n",
    "    return ks_list[np.argmax(ratios)]"
   ]
  },
  {
   "cell_type": "code",
   "execution_count": 162,
   "metadata": {
    "ExecuteTime": {
     "end_time": "2019-08-11T18:49:09.800338Z",
     "start_time": "2019-08-11T18:49:09.787373Z"
    },
    "collapsed": true
   },
   "outputs": [],
   "source": [
    "def segment_trajectory(traj, k):\n",
    "    ev = event.EventSegment(k)\n",
    "    ev.fit(traj)\n",
    "    w = (np.round(ev.segments_[0])==1).astype(bool)\n",
    "    segs = np.array([traj[wi, :].mean(0) for wi in w.T])\n",
    "    event_times = []\n",
    "    for s in ev.segments_[0].T:\n",
    "        tp = np.where(np.round(s)==1)[0]\n",
    "        event_times.append((tp[0], tp[-1]))\n",
    "        \n",
    "    return segs, event_times"
   ]
  },
  {
   "cell_type": "code",
   "execution_count": 12,
   "metadata": {
    "ExecuteTime": {
     "end_time": "2019-08-11T17:08:24.113790Z",
     "start_time": "2019-08-11T17:08:24.109186Z"
    },
    "collapsed": true
   },
   "outputs": [],
   "source": [
    "def tm_handle_bad(transcript, **kwargs):\n",
    "    try:\n",
    "        return topic_model(transcript, **kwargs)\n",
    "    # just catch all errors, nearly all data passes\n",
    "    # often IndexError due to script being all newlines\n",
    "    except:\n",
    "        return np.nan"
   ]
  },
  {
   "cell_type": "markdown",
   "metadata": {},
   "source": [
    "# main code"
   ]
  },
  {
   "cell_type": "code",
   "execution_count": 132,
   "metadata": {
    "ExecuteTime": {
     "end_time": "2019-08-11T17:49:59.973069Z",
     "start_time": "2019-08-11T17:49:58.449408Z"
    }
   },
   "outputs": [
    {
     "name": "stdout",
     "output_type": "stream",
     "text": [
      "loading data...\n"
     ]
    }
   ],
   "source": [
    "data_filepath = '../data/data.csv'\n",
    "data_fileID = '1hCCn31z4HM4IzQi59DP-vvUpYKhlvo2S'\n",
    "# possible numbers of events to try for each transcript\n",
    "ks_list = list(range(2, 51))\n",
    "\n",
    "# download and load data\n",
    "data_df = load_data(data_filepath, fileid=data_fileID)"
   ]
  },
  {
   "cell_type": "code",
   "execution_count": 133,
   "metadata": {
    "ExecuteTime": {
     "end_time": "2019-08-11T17:50:00.702282Z",
     "start_time": "2019-08-11T17:50:00.699335Z"
    }
   },
   "outputs": [],
   "source": [
    "data_df = data_df[:3]"
   ]
  },
  {
   "cell_type": "code",
   "execution_count": 134,
   "metadata": {
    "ExecuteTime": {
     "end_time": "2019-08-11T17:50:03.120607Z",
     "start_time": "2019-08-11T17:50:02.690439Z"
    },
    "scrolled": false
   },
   "outputs": [],
   "source": [
    "# fit topic model, transform script\n",
    "data_df['trajectory'] = data_df.script.apply(tm_handle_bad)"
   ]
  },
  {
   "cell_type": "code",
   "execution_count": 136,
   "metadata": {
    "ExecuteTime": {
     "end_time": "2019-08-11T17:51:05.259561Z",
     "start_time": "2019-08-11T17:51:05.230621Z"
    },
    "collapsed": true
   },
   "outputs": [],
   "source": [
    "data_df = data_df.dropna()"
   ]
  },
  {
   "cell_type": "code",
   "execution_count": 138,
   "metadata": {
    "ExecuteTime": {
     "end_time": "2019-08-11T18:15:04.705181Z",
     "start_time": "2019-08-11T17:51:15.558935Z"
    }
   },
   "outputs": [
    {
     "name": "stdout",
     "output_type": "stream",
     "text": [
      "2\n",
      "3\n",
      "4\n",
      "5\n",
      "6\n",
      "7\n",
      "8\n",
      "9\n",
      "10\n",
      "11\n",
      "12\n",
      "13\n",
      "14\n",
      "15\n",
      "16\n",
      "17\n",
      "18\n",
      "19\n",
      "20\n",
      "21\n",
      "22\n",
      "23\n",
      "24\n",
      "25\n",
      "26\n",
      "27\n",
      "28\n",
      "29\n",
      "30\n",
      "31\n",
      "32\n",
      "33\n",
      "34\n",
      "35\n",
      "36\n",
      "37\n",
      "38\n",
      "39\n",
      "40\n",
      "41\n",
      "42\n",
      "43\n",
      "44\n",
      "45\n",
      "46\n",
      "47\n",
      "48\n",
      "49\n",
      "50\n",
      "2\n",
      "3\n",
      "4\n",
      "5\n",
      "6\n",
      "7\n",
      "8\n",
      "9\n",
      "10\n",
      "11\n",
      "12\n",
      "13\n",
      "14\n",
      "15\n",
      "16\n",
      "17\n",
      "18\n",
      "19\n",
      "20\n",
      "21\n",
      "22\n",
      "23\n",
      "24\n",
      "25\n",
      "26\n",
      "27\n",
      "28\n",
      "29\n",
      "30\n",
      "31\n",
      "32\n",
      "33\n",
      "34\n",
      "35\n",
      "36\n",
      "37\n",
      "38\n",
      "39\n",
      "40\n",
      "41\n",
      "42\n",
      "43\n",
      "44\n",
      "45\n",
      "46\n",
      "47\n",
      "48\n",
      "49\n",
      "50\n"
     ]
    },
    {
     "name": "stderr",
     "output_type": "stream",
     "text": [
      "/Users/paxtonfitzpatrick/anaconda/envs/py36/lib/python3.6/site-packages/ipykernel_launcher.py:2: SettingWithCopyWarning: \n",
      "A value is trying to be set on a copy of a slice from a DataFrame.\n",
      "Try using .loc[row_indexer,col_indexer] = value instead\n",
      "\n",
      "See the caveats in the documentation: http://pandas.pydata.org/pandas-docs/stable/indexing.html#indexing-view-versus-copy\n",
      "  \n"
     ]
    }
   ],
   "source": [
    "# determine number of events for segmentation\n",
    "data_df['n_events'] = data_df.trajectory.apply(optimize_k, ks_list=ks_list)"
   ]
  },
  {
   "cell_type": "code",
   "execution_count": 147,
   "metadata": {
    "ExecuteTime": {
     "end_time": "2019-08-11T18:40:55.855587Z",
     "start_time": "2019-08-11T18:40:55.692764Z"
    }
   },
   "outputs": [
    {
     "data": {
      "text/plain": [
       "Text(0.5,0,'Number of events (k)')"
      ]
     },
     "execution_count": 147,
     "metadata": {},
     "output_type": "execute_result"
    },
    {
     "data": {
      "image/png": "[encoded data removed]",
      "text/plain": [
       "<Figure size 432x288 with 1 Axes>"
      ]
     },
     "metadata": {},
     "output_type": "display_data"
    }
   ],
   "source": [
    "plt.plot(list(map(lambda x: x[0], scores)), label='Within-event correlation')\n",
    "plt.plot(list(map(lambda x: x[1], scores)), label='Across-event correlation')\n",
    "plt.legend()\n",
    "plt.ylabel('Correlation')\n",
    "plt.xlabel('Number of events (k)')"
   ]
  },
  {
   "cell_type": "code",
   "execution_count": 148,
   "metadata": {
    "ExecuteTime": {
     "end_time": "2019-08-11T18:40:55.862293Z",
     "start_time": "2019-08-11T18:40:55.856719Z"
    }
   },
   "outputs": [
    {
     "data": {
      "text/plain": [
       "[(0.04290213198056462, -0.014779459925506945),\n",
       " (0.07156369846011361, -0.014543652074382364),\n",
       " (0.09878287286760853, -0.014315412468220684),\n",
       " (0.1278909000458543, -0.014394613231778063),\n",
       " (0.15374288540736925, -0.013912086657378206),\n",
       " (0.17361056394330096, -0.013524163361846182),\n",
       " (0.20375463603681487, -0.013525271939540444),\n",
       " (0.22867925609587908, -0.013061558586150287),\n",
       " (0.25700205748342775, -0.013153382219467765),\n",
       " (0.2722901542403843, -0.012617027997388851),\n",
       " (0.30098079853068804, -0.012649644903612674),\n",
       " (0.32214312432565045, -0.012271264058134026),\n",
       " (0.3444050941195172, -0.011869281914679387),\n",
       " (0.37303100575908493, -0.0118422390771497),\n",
       " (0.3906457637307191, -0.011421398061939914),\n",
       " (0.4084323369354072, -0.01118518140591274),\n",
       " (0.42893837178808325, -0.010982739557794533),\n",
       " (0.440840392101024, -0.010504661178943346),\n",
       " (0.46574876685837796, -0.010506919592269617),\n",
       " (0.4849967643257479, -0.010157936000070707),\n",
       " (0.5059138483450132, -0.009861627916567193),\n",
       " (0.5217044918375758, -0.009571582683420982),\n",
       " (0.5445142549222127, -0.009376517356746045),\n",
       " (0.5623256551623536, -0.00915007677802745),\n",
       " (0.5766776518185794, -0.008955721779723256),\n",
       " (0.5906308341619377, -0.008798279868276616),\n",
       " (0.6049011089180929, -0.008478337518262477),\n",
       " (0.6240953483975535, -0.008348012460005395),\n",
       " (0.6416123374871501, -0.008094832041673458),\n",
       " (0.6614459543880096, -0.007970490605001195),\n",
       " (0.6623557907838566, -0.0075164892132529035),\n",
       " (0.6827833920019217, -0.007418989555127661),\n",
       " (0.7018714544271353, -0.007309769529317827),\n",
       " (0.7086965475082377, -0.007041684512954763),\n",
       " (0.7262197638265203, -0.006844237614794446),\n",
       " (0.7365744706348789, -0.006454398065845412),\n",
       " (0.7492689313825559, -0.006185479977428215),\n",
       " (0.7594414368234865, -0.006034776932468277),\n",
       " (0.7740163236384999, -0.005802843118778278),\n",
       " (0.7756188523434525, -0.005538183012728116),\n",
       " (0.7849389814236657, -0.0053385167514603355),\n",
       " (0.8050654554176564, -0.005194263079166612),\n",
       " (0.8114358970380847, -0.0050538005863960825),\n",
       " (0.8294686061072359, -0.004681667432911948),\n",
       " (0.8384587917653495, -0.004549969390991872),\n",
       " (0.8229325880656441, -0.0043299591425869045),\n",
       " (0.8410876589567754, -0.004318350068355761),\n",
       " (0.8562546382666266, -0.004111636496487358),\n",
       " (0.8452797521187788, -0.003829330872872236)]"
      ]
     },
     "execution_count": 148,
     "metadata": {},
     "output_type": "execute_result"
    }
   ],
   "source": [
    "scores"
   ]
  },
  {
   "cell_type": "code",
   "execution_count": 149,
   "metadata": {
    "ExecuteTime": {
     "end_time": "2019-08-11T18:40:55.869549Z",
     "start_time": "2019-08-11T18:40:55.863490Z"
    }
   },
   "outputs": [],
   "source": [
    "t = list(map(lambda x: x[0]/(x[1]-(scores[0][0]/scores[0][1])), scores))\n",
    "t /= np.max(t)\n",
    "ratios = list(map(lambda x: x - k/(5*video_wsize), t))"
   ]
  },
  {
   "cell_type": "code",
   "execution_count": 150,
   "metadata": {
    "ExecuteTime": {
     "end_time": "2019-08-11T18:40:56.011841Z",
     "start_time": "2019-08-11T18:40:55.871528Z"
    }
   },
   "outputs": [
    {
     "data": {
      "text/plain": [
       "Text(0.5,0,'Number of events (k)')"
      ]
     },
     "execution_count": 150,
     "metadata": {},
     "output_type": "execute_result"
    },
    {
     "data": {
      "image/png": "[encoded data removed]",
      "text/plain": [
       "<Figure size 432x288 with 1 Axes>"
      ]
     },
     "metadata": {},
     "output_type": "display_data"
    }
   ],
   "source": [
    "plt.plot(ratios, label='Within-event correlation')\n",
    "plt.ylabel('abs(within/across) ratio')\n",
    "plt.xlabel('Number of events (k)')"
   ]
  },
  {
   "cell_type": "code",
   "execution_count": 164,
   "metadata": {
    "ExecuteTime": {
     "end_time": "2019-08-11T18:51:22.597673Z",
     "start_time": "2019-08-11T18:50:25.019145Z"
    },
    "scrolled": true
   },
   "outputs": [
    {
     "name": "stderr",
     "output_type": "stream",
     "text": [
      "/Users/paxtonfitzpatrick/anaconda/envs/py36/lib/python3.6/site-packages/pandas/core/frame.py:3140: SettingWithCopyWarning: \n",
      "A value is trying to be set on a copy of a slice from a DataFrame.\n",
      "Try using .loc[row_indexer,col_indexer] = value instead\n",
      "\n",
      "See the caveats in the documentation: http://pandas.pydata.org/pandas-docs/stable/indexing.html#indexing-view-versus-copy\n",
      "  self[k1] = value[k2]\n"
     ]
    }
   ],
   "source": [
    "# segment trajectory based on that number\n",
    "data_df[['segments', 'event onsets/offsets']] = data_df.apply(lambda x: \n",
    "                                                              segment_trajectory(x['trajectory'], x['n_events']), \n",
    "                                                              result_type='expand', axis=1)"
   ]
  },
  {
   "cell_type": "code",
   "execution_count": null,
   "metadata": {
    "collapsed": true
   },
   "outputs": [],
   "source": []
  }
 ],
 "metadata": {
  "kernelspec": {
   "display_name": "Python 3",
   "language": "python",
   "name": "python3"
  },
  "language_info": {
   "codemirror_mode": {
    "name": "ipython",
    "version": 3
   },
   "file_extension": ".py",
   "mimetype": "text/x-python",
   "name": "python",
   "nbconvert_exporter": "python",
   "pygments_lexer": "ipython3",
   "version": "3.7.3"
  }
 },
 "nbformat": 4,
 "nbformat_minor": 2
}
