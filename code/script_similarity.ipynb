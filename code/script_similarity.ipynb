{
 "cells": [
  {
   "cell_type": "code",
   "execution_count": 275,
   "metadata": {},
   "outputs": [
    {
     "name": "stdout",
     "output_type": "stream",
     "text": [
      "[nltk_data] Downloading package stopwords to /root/nltk_data...\n",
      "[nltk_data]   Package stopwords is already up-to-date!\n"
     ]
    }
   ],
   "source": [
    "import os, scipy, sklearn, spacy, glob\n",
    "import requests as req\n",
    "import seaborn as sns\n",
    "import hypertools as hyp\n",
    "import pandas as pd\n",
    "import numpy as np\n",
    "from helpers import *\n",
    "import html2text\n",
    "import markdown\n",
    "from bs4 import BeautifulSoup\n",
    "from scipy.spatial.distance import cdist, pdist, squareform\n",
    "import nltk\n",
    "nltk.download('stopwords')\n",
    "import matplotlib.pyplot as plt\n",
    "\n",
    "from nltk.corpus import stopwords as sw\n",
    "\n",
    "%matplotlib inline"
   ]
  },
  {
   "cell_type": "code",
   "execution_count": 2,
   "metadata": {},
   "outputs": [
    {
     "name": "stdout",
     "output_type": "stream",
     "text": [
      "Data found!\n"
     ]
    }
   ],
   "source": [
    "fileid = '1hCCn31z4HM4IzQi59DP-vvUpYKhlvo2S'\n",
    "datadir = '../data'\n",
    "fname = os.path.join(datadir, 'data.csv')\n",
    "\n",
    "if not os.path.exists(datadir):\n",
    "    os.makedirs(datadir)\n",
    "    \n",
    "if not os.path.exists(fname):\n",
    "    print('Fetching file from the interwebz!')\n",
    "    dl(fileid, fname)\n",
    "else:\n",
    "    print('Data found!')"
   ]
  },
  {
   "cell_type": "code",
   "execution_count": 3,
   "metadata": {},
   "outputs": [],
   "source": [
    "data = pd.read_csv(fname)"
   ]
  },
  {
   "cell_type": "code",
   "execution_count": 4,
   "metadata": {},
   "outputs": [
    {
     "data": {
      "text/html": [
       "<div>\n",
       "<style scoped>\n",
       "    .dataframe tbody tr th:only-of-type {\n",
       "        vertical-align: middle;\n",
       "    }\n",
       "\n",
       "    .dataframe tbody tr th {\n",
       "        vertical-align: top;\n",
       "    }\n",
       "\n",
       "    .dataframe thead th {\n",
       "        text-align: right;\n",
       "    }\n",
       "</style>\n",
       "<table border=\"1\" class=\"dataframe\">\n",
       "  <thead>\n",
       "    <tr style=\"text-align: right;\">\n",
       "      <th></th>\n",
       "      <th>id</th>\n",
       "      <th>title</th>\n",
       "      <th>url</th>\n",
       "      <th>writers</th>\n",
       "      <th>genres</th>\n",
       "      <th>script</th>\n",
       "    </tr>\n",
       "  </thead>\n",
       "  <tbody>\n",
       "    <tr>\n",
       "      <th>0</th>\n",
       "      <td>1</td>\n",
       "      <td>10 Things I Hate About You</td>\n",
       "      <td>http://www.imsdb.com/scripts/10-Things-I-Hate-...</td>\n",
       "      <td>Karen McCullah Lutz;Kirsten Smith;William Shak...</td>\n",
       "      <td>Comedy;Romance</td>\n",
       "      <td>\\n\\n\\n&lt;b&gt;&lt;!--\\n&lt;/b&gt;if (window!= top)\\ntop.loca...</td>\n",
       "    </tr>\n",
       "    <tr>\n",
       "      <th>1</th>\n",
       "      <td>2</td>\n",
       "      <td>12</td>\n",
       "      <td>http://www.imsdb.com/scripts/12.html</td>\n",
       "      <td>Lawrence Bridges</td>\n",
       "      <td>Comedy</td>\n",
       "      <td>\\n\\n  \\n  12 - Script\\n</td>\n",
       "    </tr>\n",
       "    <tr>\n",
       "      <th>2</th>\n",
       "      <td>3</td>\n",
       "      <td>12 and Holding</td>\n",
       "      <td>http://www.imsdb.com/scripts/12-and-Holding.html</td>\n",
       "      <td>Anthony Cipriano</td>\n",
       "      <td>Drama</td>\n",
       "      <td>\\n          \\n          \\n         ...</td>\n",
       "    </tr>\n",
       "    <tr>\n",
       "      <th>3</th>\n",
       "      <td>4</td>\n",
       "      <td>12 Monkeys</td>\n",
       "      <td>http://www.imsdb.com/scripts/12-Monkeys.html</td>\n",
       "      <td>David Peoples;Janet Peoples</td>\n",
       "      <td>Drama;Sci-Fi;Thriller</td>\n",
       "      <td>\\n\\n\\n&lt;b&gt;&lt;!--\\n&lt;/b&gt;if (window!= top)\\ntop.loca...</td>\n",
       "    </tr>\n",
       "    <tr>\n",
       "      <th>4</th>\n",
       "      <td>5</td>\n",
       "      <td>12 Years a Slave</td>\n",
       "      <td>http://www.imsdb.com/scripts/12-Years-a-Slave....</td>\n",
       "      <td>John Ridley</td>\n",
       "      <td>Drama</td>\n",
       "      <td>\\r\\n\\r\\n\\r\\n                             12 YE...</td>\n",
       "    </tr>\n",
       "  </tbody>\n",
       "</table>\n",
       "</div>"
      ],
      "text/plain": [
       "   id                       title  \\\n",
       "0   1  10 Things I Hate About You   \n",
       "1   2                          12   \n",
       "2   3              12 and Holding   \n",
       "3   4                  12 Monkeys   \n",
       "4   5            12 Years a Slave   \n",
       "\n",
       "                                                 url  \\\n",
       "0  http://www.imsdb.com/scripts/10-Things-I-Hate-...   \n",
       "1               http://www.imsdb.com/scripts/12.html   \n",
       "2   http://www.imsdb.com/scripts/12-and-Holding.html   \n",
       "3       http://www.imsdb.com/scripts/12-Monkeys.html   \n",
       "4  http://www.imsdb.com/scripts/12-Years-a-Slave....   \n",
       "\n",
       "                                             writers                 genres  \\\n",
       "0  Karen McCullah Lutz;Kirsten Smith;William Shak...         Comedy;Romance   \n",
       "1                                   Lawrence Bridges                 Comedy   \n",
       "2                                   Anthony Cipriano                  Drama   \n",
       "3                        David Peoples;Janet Peoples  Drama;Sci-Fi;Thriller   \n",
       "4                                        John Ridley                  Drama   \n",
       "\n",
       "                                              script  \n",
       "0  \\n\\n\\n<b><!--\\n</b>if (window!= top)\\ntop.loca...  \n",
       "1                            \\n\\n  \\n  12 - Script\\n  \n",
       "2             \\n          \\n          \\n         ...  \n",
       "3  \\n\\n\\n<b><!--\\n</b>if (window!= top)\\ntop.loca...  \n",
       "4  \\r\\n\\r\\n\\r\\n                             12 YE...  "
      ]
     },
     "execution_count": 4,
     "metadata": {},
     "output_type": "execute_result"
    }
   ],
   "source": [
    "data.head()"
   ]
  },
  {
   "cell_type": "markdown",
   "metadata": {},
   "source": [
    "## Plot trajectories of movies in topic space"
   ]
  },
  {
   "cell_type": "markdown",
   "metadata": {},
   "source": [
    "##### Problem: now each movie gets its own dimensionality reduction (from 100 to 2) => not in common space. Therefore apply ndim=2 at the moment of fitting the semantic model."
   ]
  },
  {
   "cell_type": "markdown",
   "metadata": {},
   "source": [
    "##### That doesn't seem to work... instead, run the model with 100 topics and then run a joint dimensionality reduction (PCA) on both movies"
   ]
  },
  {
   "cell_type": "markdown",
   "metadata": {},
   "source": [
    "##### This might work! So let's pick 2 movies that are very similar (e.g. both comedies about the same topic) and one that's probably very different:"
   ]
  },
  {
   "cell_type": "code",
   "execution_count": 5,
   "metadata": {},
   "outputs": [],
   "source": [
    "genres = ['Sci-Fi','Comedy','Drama','Adventure']\n",
    "titles_by_genre = {}\n",
    "for genre in genres:\n",
    "    genre_titles = []\n",
    "    for ri,row in data.iterrows():\n",
    "        if genre in row['genres']:\n",
    "            genre_titles.append(row['title'])\n",
    "    titles_by_genre[genre] = genre_titles"
   ]
  },
  {
   "cell_type": "code",
   "execution_count": 6,
   "metadata": {},
   "outputs": [
    {
     "name": "stdout",
     "output_type": "stream",
     "text": [
      "['Alien Nation', 'Alien vs. Predator', 'Alien: Resurrection']\n",
      "['Addams Family, The', 'Adventures of Buckaroo Banzai Across the Eighth Dimension, The', 'After School Special']\n",
      "[44, 45, 46, 30, 32, 34]\n"
     ]
    }
   ],
   "source": [
    "titles = [titles_by_genre['Sci-Fi'][10:13],\n",
    "          titles_by_genre['Comedy'][10:13]]\n",
    "movie_ids = []\n",
    "for title in titles:\n",
    "    print(title)\n",
    "    [movie_ids.append(a) for a in list(data.query('title == @title').id.values)]\n",
    "print(movie_ids)"
   ]
  },
  {
   "cell_type": "markdown",
   "metadata": {},
   "source": [
    "##### Grab all movie trajectories"
   ]
  },
  {
   "cell_type": "code",
   "execution_count": 234,
   "metadata": {},
   "outputs": [
    {
     "name": "stdout",
     "output_type": "stream",
     "text": [
      "analyzing movie 44\n",
      "analyzing movie 30\n"
     ]
    }
   ],
   "source": [
    "# results = dict()\n",
    "window_size = 25\n",
    "n_components = 100\n",
    "for mi, movie_id in enumerate(movie_ids):\n",
    "    print('analyzing movie %i'%movie_id)\n",
    "    sliding_windows = get_windows(data.query('id == @movie_id')['script'].values[0],\n",
    "                                  wsize=window_size)\n",
    "    topics_wiki = hyp.tools.format_data(sliding_windows, corpus='wiki',\n",
    "      semantic={'model':'LatentDirichletAllocation',\n",
    "        'params':{'n_components' : n_components}},\n",
    "      vectorizer={'model':'CountVectorizer',\n",
    "          'params':{'stop_words':sw.words('english')}})\n",
    "    results['movie_%i'%movie_id] = {'movie_id':movie_id,\n",
    "                                   'topics_wiki':topics_wiki[0]}"
   ]
  },
  {
   "cell_type": "code",
   "execution_count": 439,
   "metadata": {},
   "outputs": [
    {
     "data": {
      "text/plain": [
       "['42', '43', '19', '1', '44', '30']"
      ]
     },
     "execution_count": 439,
     "metadata": {},
     "output_type": "execute_result"
    }
   ],
   "source": [
    "movie_ids = [list(results.keys())[i][6:] for i in range(len(results))]\n",
    "titles = [data.loc[data['id']==int(movie_id),'title'].values[0] for movie_id in movie_ids]\n",
    "print(movie_ids)\n",
    "print(titles)"
   ]
  },
  {
   "cell_type": "code",
   "execution_count": 441,
   "metadata": {},
   "outputs": [],
   "source": [
    "# Append all\n",
    "for mi, movie_id in enumerate(movie_ids):\n",
    "    topics_wiki = results['movie_%s'%movie_id]['topics_wiki']\n",
    "    if mi == 0:\n",
    "        total_trajectory = topics_wiki\n",
    "    else:\n",
    "        total_trajectory = np.append(total_trajectory,topics_wiki,axis=0)"
   ]
  },
  {
   "cell_type": "code",
   "execution_count": 442,
   "metadata": {},
   "outputs": [],
   "source": [
    "PCA = sklearn.decomposition.PCA(n_components=3)"
   ]
  },
  {
   "cell_type": "code",
   "execution_count": 443,
   "metadata": {},
   "outputs": [
    {
     "data": {
      "text/plain": [
       "PCA(copy=True, iterated_power='auto', n_components=3, random_state=None,\n",
       "  svd_solver='auto', tol=0.0, whiten=False)"
      ]
     },
     "execution_count": 443,
     "metadata": {},
     "output_type": "execute_result"
    }
   ],
   "source": [
    "PCA.fit(total_trajectory)"
   ]
  },
  {
   "cell_type": "code",
   "execution_count": 445,
   "metadata": {},
   "outputs": [],
   "source": [
    "transforms = dict()\n",
    "for mi, movie_id in enumerate(movie_ids):\n",
    "    transforms['movie_%s'%movie_id] = PCA.transform(results['movie_%s'%movie_id]['topics_wiki'])"
   ]
  },
  {
   "cell_type": "code",
   "execution_count": 471,
   "metadata": {},
   "outputs": [
    {
     "data": {
      "text/plain": [
       "Text(0.5,1,'Movies in wikipedia topic space')"
      ]
     },
     "execution_count": 471,
     "metadata": {},
     "output_type": "execute_result"
    },
    {
     "data": {
      "image/png": "[encoded data removed]",
      "text/plain": [
       "<Figure size 720x432 with 1 Axes>"
      ]
     },
     "metadata": {},
     "output_type": "display_data"
    }
   ],
   "source": [
    "colors = sns.color_palette('tab10',len(movie_ids))\n",
    "fig = plt.figure(figsize=[10,6])\n",
    "for mi, movie_id in enumerate(movie_ids):\n",
    "    dat = transforms['movie_%s'%movie_id]\n",
    "    plt.plot(dat[:,0],dat[:,1],\n",
    "            c=colors[mi], alpha = .2)\n",
    "    plt.scatter(np.mean(dat[:,0]),np.mean(dat[:,1]),\n",
    "                s=200,c=colors[mi],marker='o')\n",
    "plt.legend(titles)\n",
    "plt.title('Movies in wikipedia topic space')"
   ]
  },
  {
   "cell_type": "markdown",
   "metadata": {},
   "source": [
    "## Use spacy to compute text similarity"
   ]
  },
  {
   "cell_type": "code",
   "execution_count": 7,
   "metadata": {},
   "outputs": [],
   "source": [
    "nlp = spacy.load('en_core_web_lg')"
   ]
  },
  {
   "cell_type": "code",
   "execution_count": 74,
   "metadata": {},
   "outputs": [
    {
     "data": {
      "text/html": [
       "<div>\n",
       "<style scoped>\n",
       "    .dataframe tbody tr th:only-of-type {\n",
       "        vertical-align: middle;\n",
       "    }\n",
       "\n",
       "    .dataframe tbody tr th {\n",
       "        vertical-align: top;\n",
       "    }\n",
       "\n",
       "    .dataframe thead th {\n",
       "        text-align: right;\n",
       "    }\n",
       "</style>\n",
       "<table border=\"1\" class=\"dataframe\">\n",
       "  <thead>\n",
       "    <tr style=\"text-align: right;\">\n",
       "      <th></th>\n",
       "      <th>id</th>\n",
       "      <th>title</th>\n",
       "    </tr>\n",
       "  </thead>\n",
       "  <tbody>\n",
       "    <tr>\n",
       "      <th>25</th>\n",
       "      <td>26</td>\n",
       "      <td>Absolute Power</td>\n",
       "    </tr>\n",
       "    <tr>\n",
       "      <th>26</th>\n",
       "      <td>27</td>\n",
       "      <td>Abyss, The</td>\n",
       "    </tr>\n",
       "    <tr>\n",
       "      <th>27</th>\n",
       "      <td>28</td>\n",
       "      <td>Ace Ventura: Pet Detective</td>\n",
       "    </tr>\n",
       "    <tr>\n",
       "      <th>28</th>\n",
       "      <td>29</td>\n",
       "      <td>Adaptation</td>\n",
       "    </tr>\n",
       "    <tr>\n",
       "      <th>29</th>\n",
       "      <td>30</td>\n",
       "      <td>Addams Family, The</td>\n",
       "    </tr>\n",
       "    <tr>\n",
       "      <th>30</th>\n",
       "      <td>31</td>\n",
       "      <td>Adjustment Bureau, The</td>\n",
       "    </tr>\n",
       "    <tr>\n",
       "      <th>31</th>\n",
       "      <td>32</td>\n",
       "      <td>Adventures of Buckaroo Banzai Across the Eight...</td>\n",
       "    </tr>\n",
       "    <tr>\n",
       "      <th>32</th>\n",
       "      <td>33</td>\n",
       "      <td>Affliction</td>\n",
       "    </tr>\n",
       "    <tr>\n",
       "      <th>33</th>\n",
       "      <td>34</td>\n",
       "      <td>After School Special</td>\n",
       "    </tr>\n",
       "    <tr>\n",
       "      <th>34</th>\n",
       "      <td>35</td>\n",
       "      <td>After.Life</td>\n",
       "    </tr>\n",
       "    <tr>\n",
       "      <th>35</th>\n",
       "      <td>36</td>\n",
       "      <td>Agnes of God</td>\n",
       "    </tr>\n",
       "    <tr>\n",
       "      <th>36</th>\n",
       "      <td>37</td>\n",
       "      <td>Air Force One</td>\n",
       "    </tr>\n",
       "    <tr>\n",
       "      <th>37</th>\n",
       "      <td>38</td>\n",
       "      <td>Airplane</td>\n",
       "    </tr>\n",
       "    <tr>\n",
       "      <th>38</th>\n",
       "      <td>39</td>\n",
       "      <td>Airplane 2: The Sequel</td>\n",
       "    </tr>\n",
       "    <tr>\n",
       "      <th>39</th>\n",
       "      <td>40</td>\n",
       "      <td>Aladdin</td>\n",
       "    </tr>\n",
       "    <tr>\n",
       "      <th>40</th>\n",
       "      <td>41</td>\n",
       "      <td>Ali</td>\n",
       "    </tr>\n",
       "    <tr>\n",
       "      <th>41</th>\n",
       "      <td>42</td>\n",
       "      <td>Alien</td>\n",
       "    </tr>\n",
       "    <tr>\n",
       "      <th>42</th>\n",
       "      <td>43</td>\n",
       "      <td>Alien 3</td>\n",
       "    </tr>\n",
       "    <tr>\n",
       "      <th>43</th>\n",
       "      <td>44</td>\n",
       "      <td>Alien Nation</td>\n",
       "    </tr>\n",
       "    <tr>\n",
       "      <th>44</th>\n",
       "      <td>45</td>\n",
       "      <td>Alien vs. Predator</td>\n",
       "    </tr>\n",
       "    <tr>\n",
       "      <th>45</th>\n",
       "      <td>46</td>\n",
       "      <td>Alien: Resurrection</td>\n",
       "    </tr>\n",
       "    <tr>\n",
       "      <th>46</th>\n",
       "      <td>47</td>\n",
       "      <td>Aliens</td>\n",
       "    </tr>\n",
       "    <tr>\n",
       "      <th>47</th>\n",
       "      <td>48</td>\n",
       "      <td>All About Eve</td>\n",
       "    </tr>\n",
       "    <tr>\n",
       "      <th>48</th>\n",
       "      <td>49</td>\n",
       "      <td>All About Steve</td>\n",
       "    </tr>\n",
       "    <tr>\n",
       "      <th>49</th>\n",
       "      <td>50</td>\n",
       "      <td>All the King's Men</td>\n",
       "    </tr>\n",
       "    <tr>\n",
       "      <th>50</th>\n",
       "      <td>51</td>\n",
       "      <td>All the President's Men</td>\n",
       "    </tr>\n",
       "    <tr>\n",
       "      <th>51</th>\n",
       "      <td>52</td>\n",
       "      <td>Almost Famous</td>\n",
       "    </tr>\n",
       "    <tr>\n",
       "      <th>52</th>\n",
       "      <td>53</td>\n",
       "      <td>Alone in the Dark</td>\n",
       "    </tr>\n",
       "    <tr>\n",
       "      <th>53</th>\n",
       "      <td>54</td>\n",
       "      <td>Amadeus</td>\n",
       "    </tr>\n",
       "    <tr>\n",
       "      <th>54</th>\n",
       "      <td>55</td>\n",
       "      <td>Amelia</td>\n",
       "    </tr>\n",
       "    <tr>\n",
       "      <th>...</th>\n",
       "      <td>...</td>\n",
       "      <td>...</td>\n",
       "    </tr>\n",
       "    <tr>\n",
       "      <th>1088</th>\n",
       "      <td>1089</td>\n",
       "      <td>Who Framed Roger Rabbit?</td>\n",
       "    </tr>\n",
       "    <tr>\n",
       "      <th>1089</th>\n",
       "      <td>1090</td>\n",
       "      <td>Who's Your Daddy</td>\n",
       "    </tr>\n",
       "    <tr>\n",
       "      <th>1090</th>\n",
       "      <td>1091</td>\n",
       "      <td>Wild At Heart</td>\n",
       "    </tr>\n",
       "    <tr>\n",
       "      <th>1091</th>\n",
       "      <td>1092</td>\n",
       "      <td>Wild Bunch, The</td>\n",
       "    </tr>\n",
       "    <tr>\n",
       "      <th>1092</th>\n",
       "      <td>1093</td>\n",
       "      <td>Wild Hogs</td>\n",
       "    </tr>\n",
       "    <tr>\n",
       "      <th>1093</th>\n",
       "      <td>1094</td>\n",
       "      <td>Wild Things</td>\n",
       "    </tr>\n",
       "    <tr>\n",
       "      <th>1094</th>\n",
       "      <td>1095</td>\n",
       "      <td>Wild Things: Diamonds in the Rough</td>\n",
       "    </tr>\n",
       "    <tr>\n",
       "      <th>1095</th>\n",
       "      <td>1096</td>\n",
       "      <td>Wild Wild West</td>\n",
       "    </tr>\n",
       "    <tr>\n",
       "      <th>1096</th>\n",
       "      <td>1097</td>\n",
       "      <td>Willow</td>\n",
       "    </tr>\n",
       "    <tr>\n",
       "      <th>1097</th>\n",
       "      <td>1098</td>\n",
       "      <td>Win Win</td>\n",
       "    </tr>\n",
       "    <tr>\n",
       "      <th>1098</th>\n",
       "      <td>1099</td>\n",
       "      <td>Wind Chill</td>\n",
       "    </tr>\n",
       "    <tr>\n",
       "      <th>1099</th>\n",
       "      <td>1100</td>\n",
       "      <td>Withnail and I</td>\n",
       "    </tr>\n",
       "    <tr>\n",
       "      <th>1100</th>\n",
       "      <td>1101</td>\n",
       "      <td>Witness</td>\n",
       "    </tr>\n",
       "    <tr>\n",
       "      <th>1101</th>\n",
       "      <td>1102</td>\n",
       "      <td>Wizard of Oz, The</td>\n",
       "    </tr>\n",
       "    <tr>\n",
       "      <th>1102</th>\n",
       "      <td>1103</td>\n",
       "      <td>Wolf of Wall Street, The</td>\n",
       "    </tr>\n",
       "    <tr>\n",
       "      <th>1103</th>\n",
       "      <td>1104</td>\n",
       "      <td>Wonder Boys</td>\n",
       "    </tr>\n",
       "    <tr>\n",
       "      <th>1104</th>\n",
       "      <td>1105</td>\n",
       "      <td>Woodsman, The</td>\n",
       "    </tr>\n",
       "    <tr>\n",
       "      <th>1105</th>\n",
       "      <td>1106</td>\n",
       "      <td>World is not Enough, The</td>\n",
       "    </tr>\n",
       "    <tr>\n",
       "      <th>1106</th>\n",
       "      <td>1107</td>\n",
       "      <td>Wrestler, The</td>\n",
       "    </tr>\n",
       "    <tr>\n",
       "      <th>1107</th>\n",
       "      <td>1108</td>\n",
       "      <td>X-Files: Fight the Future, The</td>\n",
       "    </tr>\n",
       "    <tr>\n",
       "      <th>1108</th>\n",
       "      <td>1109</td>\n",
       "      <td>X-Men</td>\n",
       "    </tr>\n",
       "    <tr>\n",
       "      <th>1109</th>\n",
       "      <td>1110</td>\n",
       "      <td>X-Men Origins: Wolverine</td>\n",
       "    </tr>\n",
       "    <tr>\n",
       "      <th>1110</th>\n",
       "      <td>1111</td>\n",
       "      <td>xXx</td>\n",
       "    </tr>\n",
       "    <tr>\n",
       "      <th>1111</th>\n",
       "      <td>1112</td>\n",
       "      <td>Year One</td>\n",
       "    </tr>\n",
       "    <tr>\n",
       "      <th>1112</th>\n",
       "      <td>1113</td>\n",
       "      <td>Yes Man</td>\n",
       "    </tr>\n",
       "    <tr>\n",
       "      <th>1113</th>\n",
       "      <td>1114</td>\n",
       "      <td>You Can Count On Me</td>\n",
       "    </tr>\n",
       "    <tr>\n",
       "      <th>1114</th>\n",
       "      <td>1115</td>\n",
       "      <td>You've Got Mail</td>\n",
       "    </tr>\n",
       "    <tr>\n",
       "      <th>1115</th>\n",
       "      <td>1116</td>\n",
       "      <td>Youth in Revolt</td>\n",
       "    </tr>\n",
       "    <tr>\n",
       "      <th>1116</th>\n",
       "      <td>1117</td>\n",
       "      <td>Zero Dark Thirty</td>\n",
       "    </tr>\n",
       "    <tr>\n",
       "      <th>1117</th>\n",
       "      <td>1118</td>\n",
       "      <td>Zerophilia</td>\n",
       "    </tr>\n",
       "  </tbody>\n",
       "</table>\n",
       "<p>1093 rows × 2 columns</p>\n",
       "</div>"
      ],
      "text/plain": [
       "        id                                              title\n",
       "25      26                                     Absolute Power\n",
       "26      27                                         Abyss, The\n",
       "27      28                         Ace Ventura: Pet Detective\n",
       "28      29                                         Adaptation\n",
       "29      30                                 Addams Family, The\n",
       "30      31                             Adjustment Bureau, The\n",
       "31      32  Adventures of Buckaroo Banzai Across the Eight...\n",
       "32      33                                         Affliction\n",
       "33      34                               After School Special\n",
       "34      35                                         After.Life\n",
       "35      36                                       Agnes of God\n",
       "36      37                                      Air Force One\n",
       "37      38                                           Airplane\n",
       "38      39                             Airplane 2: The Sequel\n",
       "39      40                                            Aladdin\n",
       "40      41                                                Ali\n",
       "41      42                                              Alien\n",
       "42      43                                            Alien 3\n",
       "43      44                                       Alien Nation\n",
       "44      45                                 Alien vs. Predator\n",
       "45      46                                Alien: Resurrection\n",
       "46      47                                             Aliens\n",
       "47      48                                      All About Eve\n",
       "48      49                                    All About Steve\n",
       "49      50                                 All the King's Men\n",
       "50      51                            All the President's Men\n",
       "51      52                                      Almost Famous\n",
       "52      53                                  Alone in the Dark\n",
       "53      54                                            Amadeus\n",
       "54      55                                             Amelia\n",
       "...    ...                                                ...\n",
       "1088  1089                           Who Framed Roger Rabbit?\n",
       "1089  1090                                   Who's Your Daddy\n",
       "1090  1091                                      Wild At Heart\n",
       "1091  1092                                    Wild Bunch, The\n",
       "1092  1093                                          Wild Hogs\n",
       "1093  1094                                        Wild Things\n",
       "1094  1095                 Wild Things: Diamonds in the Rough\n",
       "1095  1096                                     Wild Wild West\n",
       "1096  1097                                             Willow\n",
       "1097  1098                                            Win Win\n",
       "1098  1099                                         Wind Chill\n",
       "1099  1100                                     Withnail and I\n",
       "1100  1101                                            Witness\n",
       "1101  1102                                  Wizard of Oz, The\n",
       "1102  1103                           Wolf of Wall Street, The\n",
       "1103  1104                                        Wonder Boys\n",
       "1104  1105                                      Woodsman, The\n",
       "1105  1106                           World is not Enough, The\n",
       "1106  1107                                      Wrestler, The\n",
       "1107  1108                     X-Files: Fight the Future, The\n",
       "1108  1109                                              X-Men\n",
       "1109  1110                           X-Men Origins: Wolverine\n",
       "1110  1111                                                xXx\n",
       "1111  1112                                           Year One\n",
       "1112  1113                                            Yes Man\n",
       "1113  1114                                You Can Count On Me\n",
       "1114  1115                                    You've Got Mail\n",
       "1115  1116                                    Youth in Revolt\n",
       "1116  1117                                   Zero Dark Thirty\n",
       "1117  1118                                         Zerophilia\n",
       "\n",
       "[1093 rows x 2 columns]"
      ]
     },
     "execution_count": 74,
     "metadata": {},
     "output_type": "execute_result"
    }
   ],
   "source": [
    "data.query('id > 25')[['id','title']]"
   ]
  },
  {
   "cell_type": "code",
   "execution_count": 284,
   "metadata": {},
   "outputs": [],
   "source": [
    "script_vectors = pd.DataFrame()\n",
    "movie_ids = np.arange(50,100)\n",
    "dat_use = data.loc[data['id'].isin(movie_ids)].copy()\n",
    "titles = dat_use['title']\n",
    "docs = {}\n",
    "for mi,movie in dat_use.iterrows():\n",
    "    doc = nlp(wipe_formatting(u\"%s\"%movie['script']))\n",
    "    docs[movie['id']] = doc\n",
    "    vec = pd.DataFrame(doc.vector).T\n",
    "#     vec.set_index(movie['id'])\n",
    "    script_vectors = script_vectors.append(vec)\n",
    "script_vectors = script_vectors.reset_index(drop=True)"
   ]
  },
  {
   "cell_type": "code",
   "execution_count": 288,
   "metadata": {},
   "outputs": [
    {
     "data": {
      "text/plain": [
       "<matplotlib.axes._subplots.AxesSubplot at 0x7fa111b7c470>"
      ]
     },
     "execution_count": 288,
     "metadata": {},
     "output_type": "execute_result"
    },
    {
     "data": {
      "image/png": "[encoded data removed]",
      "text/plain": [
       "<Figure size 720x720 with 2 Axes>"
      ]
     },
     "metadata": {},
     "output_type": "display_data"
    }
   ],
   "source": [
    "include = range(np.shape(script_vectors)[0])\n",
    "titles_include = [titles.values[i] for i in include]\n",
    "fig,ax = plt.subplots(1,1,figsize=[10,10])\n",
    "sns.heatmap(sklearn.metrics.pairwise.cosine_similarity(\n",
    "    script_vectors.iloc[include,:]),vmin = 0.95,\n",
    "            xticklabels = titles_include, yticklabels = titles_include,\n",
    "           ax=ax)"
   ]
  },
  {
   "cell_type": "code",
   "execution_count": 135,
   "metadata": {},
   "outputs": [],
   "source": [
    "alien = docs[42]"
   ]
  },
  {
   "cell_type": "code",
   "execution_count": 136,
   "metadata": {},
   "outputs": [
    {
     "name": "stdout",
     "output_type": "stream",
     "text": [
      "(0, Dan O'Bannon ALIEN)\n",
      "(1, STARBEAST)\n",
      "(2, Dan O'Bannon &)\n",
      "(3, Ronald Shusett)\n",
      "(4, Dan O'Bannon)\n",
      "(5, Earth)\n",
      "(6, only one)\n",
      "(7, only six hours)\n",
      "(8, Earth)\n",
      "(9, CHAZ STANDARD)\n"
     ]
    },
    {
     "data": {
      "text/plain": [
       "[None, None, None, None, None, None, None, None, None, None]"
      ]
     },
     "execution_count": 136,
     "metadata": {},
     "output_type": "execute_result"
    }
   ],
   "source": [
    "[print((i,list(alien.ents)[i])) for i in np.arange(10)]"
   ]
  },
  {
   "cell_type": "markdown",
   "metadata": {},
   "source": [
    "## Compute similarity between movie script and review"
   ]
  },
  {
   "cell_type": "code",
   "execution_count": 204,
   "metadata": {},
   "outputs": [],
   "source": [
    "# Load data with movie review IDs"
   ]
  },
  {
   "cell_type": "code",
   "execution_count": 250,
   "metadata": {},
   "outputs": [],
   "source": [
    "data_with_reviews = pd.read_csv('../data/data_with_imdb_info.csv',index_col=0,\n",
    "                               dtype={'imdb_id': str})"
   ]
  },
  {
   "cell_type": "code",
   "execution_count": 251,
   "metadata": {},
   "outputs": [
    {
     "data": {
      "text/html": [
       "<div>\n",
       "<style scoped>\n",
       "    .dataframe tbody tr th:only-of-type {\n",
       "        vertical-align: middle;\n",
       "    }\n",
       "\n",
       "    .dataframe tbody tr th {\n",
       "        vertical-align: top;\n",
       "    }\n",
       "\n",
       "    .dataframe thead th {\n",
       "        text-align: right;\n",
       "    }\n",
       "</style>\n",
       "<table border=\"1\" class=\"dataframe\">\n",
       "  <thead>\n",
       "    <tr style=\"text-align: right;\">\n",
       "      <th></th>\n",
       "      <th>id</th>\n",
       "      <th>title</th>\n",
       "      <th>url</th>\n",
       "      <th>writers</th>\n",
       "      <th>genres</th>\n",
       "      <th>script</th>\n",
       "      <th>imdb_id</th>\n",
       "      <th>has_review</th>\n",
       "    </tr>\n",
       "  </thead>\n",
       "  <tbody>\n",
       "    <tr>\n",
       "      <th>3</th>\n",
       "      <td>4</td>\n",
       "      <td>12 Monkeys</td>\n",
       "      <td>http://www.imsdb.com/scripts/12-Monkeys.html</td>\n",
       "      <td>David Peoples;Janet Peoples</td>\n",
       "      <td>Drama;Sci-Fi;Thriller</td>\n",
       "      <td>\\n\\n\\n&lt;b&gt;&lt;!--\\n&lt;/b&gt;if (window!= top)\\ntop.loca...</td>\n",
       "      <td>0114746</td>\n",
       "      <td>True</td>\n",
       "    </tr>\n",
       "    <tr>\n",
       "      <th>10</th>\n",
       "      <td>11</td>\n",
       "      <td>2001: A Space Odyssey</td>\n",
       "      <td>http://www.imsdb.com/scripts/2001-A-Space-Odys...</td>\n",
       "      <td>Stanley Kubrick;Arhur C. Clarke</td>\n",
       "      <td>Adventure;Sci-Fi</td>\n",
       "      <td>\\n\\n\\t\\t\\t\\t    \\n\\t\\t\\t\\t    2001: A SPACE OD...</td>\n",
       "      <td>0062622</td>\n",
       "      <td>True</td>\n",
       "    </tr>\n",
       "    <tr>\n",
       "      <th>19</th>\n",
       "      <td>20</td>\n",
       "      <td>8MM</td>\n",
       "      <td>http://www.imsdb.com/scripts/8MM.html</td>\n",
       "      <td>Andrew Kevin Walker</td>\n",
       "      <td>Mystery;Thriller</td>\n",
       "      <td>\\n\\n\\n   \"8MM\", by Andrew Kevin Walker\\n\\n\\n\\n...</td>\n",
       "      <td>0134273</td>\n",
       "      <td>True</td>\n",
       "    </tr>\n",
       "    <tr>\n",
       "      <th>20</th>\n",
       "      <td>21</td>\n",
       "      <td>9</td>\n",
       "      <td>http://www.imsdb.com/scripts/9.html</td>\n",
       "      <td>Pamela Pettler;Shane Acker</td>\n",
       "      <td>Animation;Adventure;Drama;Fantasy;Sci-Fi</td>\n",
       "      <td>\\n          \\n          \\n         ...</td>\n",
       "      <td>0472033</td>\n",
       "      <td>True</td>\n",
       "    </tr>\n",
       "    <tr>\n",
       "      <th>52</th>\n",
       "      <td>53</td>\n",
       "      <td>Alone in the Dark</td>\n",
       "      <td>http://www.imsdb.com/scripts/Alone-in-the-Dark...</td>\n",
       "      <td>Elan Mastai;Michael Roesch</td>\n",
       "      <td>Action;Horror;Thriller</td>\n",
       "      <td>\\n\\n\\n                                    ALON...</td>\n",
       "      <td>0369226</td>\n",
       "      <td>True</td>\n",
       "    </tr>\n",
       "  </tbody>\n",
       "</table>\n",
       "</div>"
      ],
      "text/plain": [
       "    id                  title  \\\n",
       "3    4             12 Monkeys   \n",
       "10  11  2001: A Space Odyssey   \n",
       "19  20                    8MM   \n",
       "20  21                      9   \n",
       "52  53      Alone in the Dark   \n",
       "\n",
       "                                                  url  \\\n",
       "3        http://www.imsdb.com/scripts/12-Monkeys.html   \n",
       "10  http://www.imsdb.com/scripts/2001-A-Space-Odys...   \n",
       "19              http://www.imsdb.com/scripts/8MM.html   \n",
       "20                http://www.imsdb.com/scripts/9.html   \n",
       "52  http://www.imsdb.com/scripts/Alone-in-the-Dark...   \n",
       "\n",
       "                            writers                                    genres  \\\n",
       "3       David Peoples;Janet Peoples                     Drama;Sci-Fi;Thriller   \n",
       "10  Stanley Kubrick;Arhur C. Clarke                          Adventure;Sci-Fi   \n",
       "19              Andrew Kevin Walker                          Mystery;Thriller   \n",
       "20       Pamela Pettler;Shane Acker  Animation;Adventure;Drama;Fantasy;Sci-Fi   \n",
       "52       Elan Mastai;Michael Roesch                    Action;Horror;Thriller   \n",
       "\n",
       "                                               script  imdb_id  has_review  \n",
       "3   \\n\\n\\n<b><!--\\n</b>if (window!= top)\\ntop.loca...  0114746        True  \n",
       "10  \\n\\n\\t\\t\\t\\t    \\n\\t\\t\\t\\t    2001: A SPACE OD...  0062622        True  \n",
       "19  \\n\\n\\n   \"8MM\", by Andrew Kevin Walker\\n\\n\\n\\n...  0134273        True  \n",
       "20             \\n          \\n          \\n         ...  0472033        True  \n",
       "52  \\n\\n\\n                                    ALON...  0369226        True  "
      ]
     },
     "execution_count": 251,
     "metadata": {},
     "output_type": "execute_result"
    }
   ],
   "source": [
    "data_with_reviews = data_with_reviews.query('has_review == True')\n",
    "data_with_reviews.head()"
   ]
  },
  {
   "cell_type": "code",
   "execution_count": 280,
   "metadata": {},
   "outputs": [
    {
     "name": "stdout",
     "output_type": "stream",
     "text": [
      "Apocalypse Now 0078788\n"
     ]
    }
   ],
   "source": [
    "movie_id = data_with_reviews['id'].values[10]\n",
    "movie_dat = data_with_reviews.query('id == @movie_id')\n",
    "title = movie_dat['title'].values[0]\n",
    "script = wipe_formatting(movie_dat['script'].values[0])\n",
    "imdb_id = movie_dat['imdb_id'].values[0]\n",
    "print(title, imdb_id)\n",
    "movie_doc = nlp(script)"
   ]
  },
  {
   "cell_type": "code",
   "execution_count": 281,
   "metadata": {},
   "outputs": [
    {
     "data": {
      "text/html": [
       "<div>\n",
       "<style scoped>\n",
       "    .dataframe tbody tr th:only-of-type {\n",
       "        vertical-align: middle;\n",
       "    }\n",
       "\n",
       "    .dataframe tbody tr th {\n",
       "        vertical-align: top;\n",
       "    }\n",
       "\n",
       "    .dataframe thead th {\n",
       "        text-align: right;\n",
       "    }\n",
       "</style>\n",
       "<table border=\"1\" class=\"dataframe\">\n",
       "  <thead>\n",
       "    <tr style=\"text-align: right;\">\n",
       "      <th></th>\n",
       "      <th>url</th>\n",
       "      <th>imdb_id</th>\n",
       "      <th>set</th>\n",
       "      <th>sentiment</th>\n",
       "      <th>review_id</th>\n",
       "    </tr>\n",
       "  </thead>\n",
       "  <tbody>\n",
       "    <tr>\n",
       "      <th>0</th>\n",
       "      <td>http://www.imdb.com/title/tt0078788/usercomments</td>\n",
       "      <td>0078788</td>\n",
       "      <td>test</td>\n",
       "      <td>pos</td>\n",
       "      <td>290</td>\n",
       "    </tr>\n",
       "    <tr>\n",
       "      <th>1</th>\n",
       "      <td>http://www.imdb.com/title/tt0078788/usercomments</td>\n",
       "      <td>0078788</td>\n",
       "      <td>test</td>\n",
       "      <td>pos</td>\n",
       "      <td>291</td>\n",
       "    </tr>\n",
       "    <tr>\n",
       "      <th>2</th>\n",
       "      <td>http://www.imdb.com/title/tt0078788/usercomments</td>\n",
       "      <td>0078788</td>\n",
       "      <td>test</td>\n",
       "      <td>pos</td>\n",
       "      <td>292</td>\n",
       "    </tr>\n",
       "    <tr>\n",
       "      <th>3</th>\n",
       "      <td>http://www.imdb.com/title/tt0078788/usercomments</td>\n",
       "      <td>0078788</td>\n",
       "      <td>test</td>\n",
       "      <td>pos</td>\n",
       "      <td>293</td>\n",
       "    </tr>\n",
       "    <tr>\n",
       "      <th>4</th>\n",
       "      <td>http://www.imdb.com/title/tt0078788/usercomments</td>\n",
       "      <td>0078788</td>\n",
       "      <td>test</td>\n",
       "      <td>pos</td>\n",
       "      <td>294</td>\n",
       "    </tr>\n",
       "  </tbody>\n",
       "</table>\n",
       "</div>"
      ],
      "text/plain": [
       "                                                url  imdb_id   set sentiment  \\\n",
       "0  http://www.imdb.com/title/tt0078788/usercomments  0078788  test       pos   \n",
       "1  http://www.imdb.com/title/tt0078788/usercomments  0078788  test       pos   \n",
       "2  http://www.imdb.com/title/tt0078788/usercomments  0078788  test       pos   \n",
       "3  http://www.imdb.com/title/tt0078788/usercomments  0078788  test       pos   \n",
       "4  http://www.imdb.com/title/tt0078788/usercomments  0078788  test       pos   \n",
       "\n",
       "   review_id  \n",
       "0        290  \n",
       "1        291  \n",
       "2        292  \n",
       "3        293  \n",
       "4        294  "
      ]
     },
     "execution_count": 281,
     "metadata": {},
     "output_type": "execute_result"
    }
   ],
   "source": [
    "review_data = pd.read_csv('../data/review_data.csv',index_col=0,dtype={'imdb_id':str})\n",
    "review_data = review_data.query('imdb_id == @imdb_id').copy().reset_index(drop=True)\n",
    "review_data.head()"
   ]
  },
  {
   "cell_type": "code",
   "execution_count": 282,
   "metadata": {},
   "outputs": [],
   "source": [
    "review_sim_results = pd.DataFrame()\n",
    "for ri,review_dat in review_data.iterrows():\n",
    "    review_set = review_dat['set']\n",
    "    review_sentiment = review_dat['sentiment']\n",
    "    filename = glob.glob('../../aclImdb/%s/%s/%i_*.txt'%(\n",
    "        review_set,review_sentiment,review_dat['review_id']))[0]\n",
    "    review_doc = nlp(u'%s'%wipe_formatting(open(filename, 'r+', encoding=\"utf-8\").read()))\n",
    "    review_sim = movie_doc.similarity(review_doc)\n",
    "    review_sim_results = review_sim_results.append(pd.DataFrame(\n",
    "        [[movie_id,title,imdb_id,ri,review_set, review_sentiment,review_sim]]))\n",
    "review_sim_results = review_sim_results.reset_index(drop=True)\n",
    "review_sim_results.columns = ['movie_id','title','imdb_id','review_id',\n",
    "                              'review_set','review_sentiment','similarity_to_movie']"
   ]
  },
  {
   "cell_type": "code",
   "execution_count": 283,
   "metadata": {},
   "outputs": [
    {
     "name": "stderr",
     "output_type": "stream",
     "text": [
      "/opt/conda/lib/python3.6/site-packages/scipy/stats/stats.py:1713: FutureWarning: Using a non-tuple sequence for multidimensional indexing is deprecated; use `arr[tuple(seq)]` instead of `arr[seq]`. In the future this will be interpreted as an array index, `arr[np.array(seq)]`, which will result either in an error or a different result.\n",
      "  return np.add.reduce(sorted[indexer] * weights, axis=axis) / sumval\n"
     ]
    },
    {
     "data": {
      "text/plain": [
       "(0.9404730348106319, 1)"
      ]
     },
     "execution_count": 283,
     "metadata": {},
     "output_type": "execute_result"
    },
    {
     "data": {
      "image/png": "[encoded data removed]",
      "text/plain": [
       "<Figure size 432x288 with 1 Axes>"
      ]
     },
     "metadata": {},
     "output_type": "display_data"
    }
   ],
   "source": [
    "sns.barplot(data = review_sim_results, x = 'review_sentiment', y = 'similarity_to_movie',\n",
    "           alpha = .5, errwidth = 0, zorder = 0)\n",
    "sns.stripplot(data = review_sim_results, x = 'review_sentiment', y = 'similarity_to_movie',\n",
    "             zorder = 1)\n",
    "sns.barplot(data = review_sim_results, x = 'review_sentiment', y = 'similarity_to_movie',\n",
    "           alpha = 0, errwidth = 1, capsize = .1, errcolor = 'k', zorder = 2)\n",
    "plt.ylim([min(review_sim_results.similarity_to_movie),1])"
   ]
  },
  {
   "cell_type": "code",
   "execution_count": null,
   "metadata": {},
   "outputs": [],
   "source": []
  },
  {
   "cell_type": "code",
   "execution_count": null,
   "metadata": {},
   "outputs": [],
   "source": []
  }
 ],
 "metadata": {
  "kernelspec": {
   "display_name": "Python 3",
   "language": "python",
   "name": "python3"
  },
  "language_info": {
   "codemirror_mode": {
    "name": "ipython",
    "version": 3
   },
   "file_extension": ".py",
   "mimetype": "text/x-python",
   "name": "python",
   "nbconvert_exporter": "python",
   "pygments_lexer": "ipython3",
   "version": "3.6.5"
  }
 },
 "nbformat": 4,
 "nbformat_minor": 2
}
