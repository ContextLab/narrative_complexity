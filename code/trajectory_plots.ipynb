{
 "cells": [
  {
   "cell_type": "code",
   "execution_count": 3,
   "metadata": {},
   "outputs": [
    {
     "name": "stderr",
     "output_type": "stream",
     "text": [
      "[nltk_data] Downloading package stopwords to\n",
      "[nltk_data]     /Users/jeremy/nltk_data...\n",
      "[nltk_data]   Package stopwords is already up-to-date!\n"
     ]
    }
   ],
   "source": [
    "import os\n",
    "import requests as req\n",
    "import seaborn as sns\n",
    "import hypertools as hyp\n",
    "import pandas as pd\n",
    "import numpy as np\n",
    "from downloader import download_file_from_google_drive as dl\n",
    "import html2text\n",
    "import markdown\n",
    "from bs4 import BeautifulSoup\n",
    "from scipy.spatial.distance import cdist, pdist, squareform\n",
    "import nltk\n",
    "nltk.download('stopwords')\n",
    "\n",
    "from nltk.corpus import stopwords as sw\n",
    "\n",
    "%matplotlib inline"
   ]
  },
  {
   "cell_type": "code",
   "execution_count": 5,
   "metadata": {},
   "outputs": [
    {
     "name": "stdout",
     "output_type": "stream",
     "text": [
      "Data found!\n"
     ]
    }
   ],
   "source": [
    "fileid = '1hCCn31z4HM4IzQi59DP-vvUpYKhlvo2S'\n",
    "datadir = '../data'\n",
    "fname = os.path.join(datadir, 'data.csv')\n",
    "\n",
    "if not os.path.exists(datadir):\n",
    "    os.makedirs(datadir)\n",
    "    \n",
    "if not os.path.exists(fname):\n",
    "    print('Fetching file from the interwebz!')\n",
    "    dl(fileid, fname)\n",
    "else:\n",
    "    print('Data found!')"
   ]
  },
  {
   "cell_type": "code",
   "execution_count": 6,
   "metadata": {},
   "outputs": [],
   "source": [
    "data = pd.read_csv(fname)"
   ]
  },
  {
   "cell_type": "code",
   "execution_count": 7,
   "metadata": {},
   "outputs": [
    {
     "data": {
      "text/html": [
       "<div>\n",
       "<style scoped>\n",
       "    .dataframe tbody tr th:only-of-type {\n",
       "        vertical-align: middle;\n",
       "    }\n",
       "\n",
       "    .dataframe tbody tr th {\n",
       "        vertical-align: top;\n",
       "    }\n",
       "\n",
       "    .dataframe thead th {\n",
       "        text-align: right;\n",
       "    }\n",
       "</style>\n",
       "<table border=\"1\" class=\"dataframe\">\n",
       "  <thead>\n",
       "    <tr style=\"text-align: right;\">\n",
       "      <th></th>\n",
       "      <th>id</th>\n",
       "      <th>title</th>\n",
       "      <th>url</th>\n",
       "      <th>writers</th>\n",
       "      <th>genres</th>\n",
       "      <th>script</th>\n",
       "    </tr>\n",
       "  </thead>\n",
       "  <tbody>\n",
       "    <tr>\n",
       "      <th>0</th>\n",
       "      <td>1</td>\n",
       "      <td>10 Things I Hate About You</td>\n",
       "      <td>http://www.imsdb.com/scripts/10-Things-I-Hate-...</td>\n",
       "      <td>Karen McCullah Lutz;Kirsten Smith;William Shak...</td>\n",
       "      <td>Comedy;Romance</td>\n",
       "      <td>\\n\\n\\n&lt;b&gt;&lt;!--\\n&lt;/b&gt;if (window!= top)\\ntop.loca...</td>\n",
       "    </tr>\n",
       "    <tr>\n",
       "      <th>1</th>\n",
       "      <td>2</td>\n",
       "      <td>12</td>\n",
       "      <td>http://www.imsdb.com/scripts/12.html</td>\n",
       "      <td>Lawrence Bridges</td>\n",
       "      <td>Comedy</td>\n",
       "      <td>\\n\\n  \\n  12 - Script\\n</td>\n",
       "    </tr>\n",
       "    <tr>\n",
       "      <th>2</th>\n",
       "      <td>3</td>\n",
       "      <td>12 and Holding</td>\n",
       "      <td>http://www.imsdb.com/scripts/12-and-Holding.html</td>\n",
       "      <td>Anthony Cipriano</td>\n",
       "      <td>Drama</td>\n",
       "      <td>\\n          \\n          \\n         ...</td>\n",
       "    </tr>\n",
       "    <tr>\n",
       "      <th>3</th>\n",
       "      <td>4</td>\n",
       "      <td>12 Monkeys</td>\n",
       "      <td>http://www.imsdb.com/scripts/12-Monkeys.html</td>\n",
       "      <td>David Peoples;Janet Peoples</td>\n",
       "      <td>Drama;Sci-Fi;Thriller</td>\n",
       "      <td>\\n\\n\\n&lt;b&gt;&lt;!--\\n&lt;/b&gt;if (window!= top)\\ntop.loca...</td>\n",
       "    </tr>\n",
       "    <tr>\n",
       "      <th>4</th>\n",
       "      <td>5</td>\n",
       "      <td>12 Years a Slave</td>\n",
       "      <td>http://www.imsdb.com/scripts/12-Years-a-Slave....</td>\n",
       "      <td>John Ridley</td>\n",
       "      <td>Drama</td>\n",
       "      <td>\\r\\n\\r\\n\\r\\n                             12 YE...</td>\n",
       "    </tr>\n",
       "  </tbody>\n",
       "</table>\n",
       "</div>"
      ],
      "text/plain": [
       "   id                       title  \\\n",
       "0   1  10 Things I Hate About You   \n",
       "1   2                          12   \n",
       "2   3              12 and Holding   \n",
       "3   4                  12 Monkeys   \n",
       "4   5            12 Years a Slave   \n",
       "\n",
       "                                                 url  \\\n",
       "0  http://www.imsdb.com/scripts/10-Things-I-Hate-...   \n",
       "1               http://www.imsdb.com/scripts/12.html   \n",
       "2   http://www.imsdb.com/scripts/12-and-Holding.html   \n",
       "3       http://www.imsdb.com/scripts/12-Monkeys.html   \n",
       "4  http://www.imsdb.com/scripts/12-Years-a-Slave....   \n",
       "\n",
       "                                             writers                 genres  \\\n",
       "0  Karen McCullah Lutz;Kirsten Smith;William Shak...         Comedy;Romance   \n",
       "1                                   Lawrence Bridges                 Comedy   \n",
       "2                                   Anthony Cipriano                  Drama   \n",
       "3                        David Peoples;Janet Peoples  Drama;Sci-Fi;Thriller   \n",
       "4                                        John Ridley                  Drama   \n",
       "\n",
       "                                              script  \n",
       "0  \\n\\n\\n<b><!--\\n</b>if (window!= top)\\ntop.loca...  \n",
       "1                            \\n\\n  \\n  12 - Script\\n  \n",
       "2             \\n          \\n          \\n         ...  \n",
       "3  \\n\\n\\n<b><!--\\n</b>if (window!= top)\\ntop.loca...  \n",
       "4  \\r\\n\\r\\n\\r\\n                             12 YE...  "
      ]
     },
     "execution_count": 7,
     "metadata": {},
     "output_type": "execute_result"
    }
   ],
   "source": [
    "data.head()"
   ]
  },
  {
   "cell_type": "code",
   "execution_count": 8,
   "metadata": {},
   "outputs": [],
   "source": [
    "def wipe_formatting(script, rehtml=False):\n",
    "    parser = html2text.HTML2Text()\n",
    "    parser.wrap_links = True\n",
    "    parser.skip_internal_links = True\n",
    "    parser.inline_links = True\n",
    "    parser.ignore_anchors = True\n",
    "    parser.ignore_images = True\n",
    "    parser.ignore_emphasis = True\n",
    "    parser.ignore_links = True\n",
    "    text = parser.handle(script)\n",
    "    text = text.strip(' \\t\\n\\r')\n",
    "    if rehtml:\n",
    "        text = text.replace('\\n', '<br/>')\n",
    "        text = text.replace('\\\\', '')\n",
    "    md = markdown.markdown(text)\n",
    "    soup=BeautifulSoup(md,'html5lib')\n",
    "    soup=soup.get_text()\n",
    "    soup = soup.replace('\\n', ' ')\n",
    "    return soup\n",
    "\n",
    "def sliding_window(script, n=100, delim=' '):\n",
    "    words = wipe_formatting(script).split(delim)\n",
    "    x = []\n",
    "    for i in np.arange(len(words)-n):\n",
    "        x.append(delim.join(words[i:(i+n)]))\n",
    "    return x\n",
    "    "
   ]
  },
  {
   "cell_type": "code",
   "execution_count": 9,
   "metadata": {},
   "outputs": [],
   "source": [
    "x = sliding_window(data.iloc[0]['script'], delim='.', n=25)"
   ]
  },
  {
   "cell_type": "code",
   "execution_count": 10,
   "metadata": {},
   "outputs": [
    {
     "data": {
      "text/plain": [
       "'Ten Things I Hate About You - by Karen McCullah Lutz & Kirsten Smith TEN THINGS I HATE ABOUT YOU written by Karen McCullah Lutz & Kirsten Smith based on \\'Taming of the Shrew\" by William Shakespeare Revision November 12, 1997 PADUA HIGH SCHOOL - DAY Welcome to Padua High School,, your typical urban- suburban high school in Portland, Oregon. Smarties, Skids, Preppies, Granolas. Loners, Lovers, the In and the Out Crowd rub sleep out of their eyes and head for the main building. PADUA HIGH PARKING LOT - DAY KAT STRATFORD, eighteen, pretty -- but trying hard not to be -- in a baggy granny dress and glasses, balances a cup of coffee and a backpack as she climbs out of her battered, baby blue \\'75 Dodge Dart. A stray SKATEBOARD clips her, causing her to stumble and spill her coffee, as well as the contents of her backpack. The young RIDER dashes over to help, trembling when he sees who his board has hit. RIDER Hey -- sorry. Cowering in fear, he attempts to scoop up her scattered belongings. KAT Leave it He persists. KAT (continuing) I said, leave it! She grabs his skateboard and uses it to SHOVE him against a car, skateboard tip to his throat. He whimpers pitifully and she lets him go. A path clears for her as she marches through a pack of fearful students and SLAMS open the door, entering school. INT. GIRLS\\' ROOM - DAY BIANCA STRATFORD, a beautiful sophomore, stands facing the mirror, applying lipstick. Her less extraordinary, but still cute friend, CHASTITY stands next to her. BIANCA Did you change your hair? CHASTITY No. BIANCA You might wanna think about it Leave the girls\\' room and enter the hallway. HALLWAY - DAY- CONTINUOUS Bianca is immediately greeted by an admiring crowd, both boys and girls alike. BOY (adoring) Hey, Bianca. GIRL Awesome shoes. The greetings continue as Chastity remains wordless and unaddressed by her side. Bianca smiles proudly, acknowledging her fans. GUIDANCE COUNSELOR\\'S OFFICE - DAY CAMERON JAMES, a clean-cut, easy-going senior with an open, farm-boy face, sits facing Miss Perky, an impossibly cheery guidance counselor. MISS PERKY I\\'m sure you won\\'t find Padua any different than your old school. Same little asswipe mother- fuckers everywhere'"
      ]
     },
     "execution_count": 10,
     "metadata": {},
     "output_type": "execute_result"
    }
   ],
   "source": [
    "x[0]"
   ]
  },
  {
   "cell_type": "code",
   "execution_count": 11,
   "metadata": {},
   "outputs": [
    {
     "data": {
      "text/plain": [
       "\" Smarties, Skids, Preppies, Granolas. Loners, Lovers, the In and the Out Crowd rub sleep out of their eyes and head for the main building. PADUA HIGH PARKING LOT - DAY KAT STRATFORD, eighteen, pretty -- but trying hard not to be -- in a baggy granny dress and glasses, balances a cup of coffee and a backpack as she climbs out of her battered, baby blue '75 Dodge Dart. A stray SKATEBOARD clips her, causing her to stumble and spill her coffee, as well as the contents of her backpack. The young RIDER dashes over to help, trembling when he sees who his board has hit. RIDER Hey -- sorry. Cowering in fear, he attempts to scoop up her scattered belongings. KAT Leave it He persists. KAT (continuing) I said, leave it! She grabs his skateboard and uses it to SHOVE him against a car, skateboard tip to his throat. He whimpers pitifully and she lets him go. A path clears for her as she marches through a pack of fearful students and SLAMS open the door, entering school. INT. GIRLS' ROOM - DAY BIANCA STRATFORD, a beautiful sophomore, stands facing the mirror, applying lipstick. Her less extraordinary, but still cute friend, CHASTITY stands next to her. BIANCA Did you change your hair? CHASTITY No. BIANCA You might wanna think about it Leave the girls' room and enter the hallway. HALLWAY - DAY- CONTINUOUS Bianca is immediately greeted by an admiring crowd, both boys and girls alike. BOY (adoring) Hey, Bianca. GIRL Awesome shoes. The greetings continue as Chastity remains wordless and unaddressed by her side. Bianca smiles proudly, acknowledging her fans. GUIDANCE COUNSELOR'S OFFICE - DAY CAMERON JAMES, a clean-cut, easy-going senior with an open, farm-boy face, sits facing Miss Perky, an impossibly cheery guidance counselor. MISS PERKY I'm sure you won't find Padua any different than your old school. Same little asswipe mother- fuckers everywhere. Her plastic smile never leaves her face\""
      ]
     },
     "execution_count": 11,
     "metadata": {},
     "output_type": "execute_result"
    }
   ],
   "source": [
    "x[1]"
   ]
  },
  {
   "cell_type": "code",
   "execution_count": null,
   "metadata": {},
   "outputs": [],
   "source": [
    "y = hyp.tools.format_data(x, corpus=x, semantic={'model':'LatentDirichletAllocation', 'params':{'n_components' : 100}}, vectorizer={'model':'CountVectorizer', 'params':{'stop_words':sw.words('English')}})"
   ]
  },
  {
   "cell_type": "code",
   "execution_count": null,
   "metadata": {},
   "outputs": [],
   "source": [
    "hyp.plot(y, 'ko-', reduce='UMAP', ndims=2)"
   ]
  },
  {
   "cell_type": "code",
   "execution_count": null,
   "metadata": {},
   "outputs": [],
   "source": [
    "sns.heatmap(y[0])"
   ]
  },
  {
   "cell_type": "code",
   "execution_count": null,
   "metadata": {},
   "outputs": [],
   "source": [
    "sns.heatmap(1 - squareform(pdist(y[0], 'correlation')))"
   ]
  },
  {
   "cell_type": "code",
   "execution_count": null,
   "metadata": {},
   "outputs": [],
   "source": []
  }
 ],
 "metadata": {
  "kernelspec": {
   "display_name": "Python 3",
   "language": "python",
   "name": "python3"
  },
  "language_info": {
   "codemirror_mode": {
    "name": "ipython",
    "version": 3
   },
   "file_extension": ".py",
   "mimetype": "text/x-python",
   "name": "python",
   "nbconvert_exporter": "python",
   "pygments_lexer": "ipython3",
   "version": "3.7.3"
  }
 },
 "nbformat": 4,
 "nbformat_minor": 2
}
