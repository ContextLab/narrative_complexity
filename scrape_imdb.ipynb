{
 "cells": [
  {
   "cell_type": "code",
   "execution_count": 1,
   "metadata": {},
   "outputs": [],
   "source": [
    "from imdb import IMDb\n",
    "import re\n",
    "import pandas as pd\n",
    "import os\n",
    "from downloader import download_file_from_google_drive as dl\n",
    "from IPython.display import clear_output"
   ]
  },
  {
   "cell_type": "markdown",
   "metadata": {},
   "source": [
    "### Get list of movies to scrape info for"
   ]
  },
  {
   "cell_type": "code",
   "execution_count": 2,
   "metadata": {},
   "outputs": [
    {
     "name": "stdout",
     "output_type": "stream",
     "text": [
      "Data found!\n"
     ]
    }
   ],
   "source": [
    "fileid = '1hCCn31z4HM4IzQi59DP-vvUpYKhlvo2S'\n",
    "datadir = 'data'\n",
    "fname = os.path.join(datadir, 'data.csv')\n",
    "\n",
    "if not os.path.exists(datadir):\n",
    "    os.makedirs(datadir)\n",
    "    \n",
    "if not os.path.exists(fname):\n",
    "    print('Fetching file from the interwebz!')\n",
    "    dl(fileid, fname)\n",
    "else:\n",
    "    print('Data found!')"
   ]
  },
  {
   "cell_type": "code",
   "execution_count": 3,
   "metadata": {},
   "outputs": [],
   "source": [
    "data = pd.read_csv(fname)"
   ]
  },
  {
   "cell_type": "code",
   "execution_count": 4,
   "metadata": {},
   "outputs": [
    {
     "data": {
      "text/html": [
       "<div>\n",
       "<style scoped>\n",
       "    .dataframe tbody tr th:only-of-type {\n",
       "        vertical-align: middle;\n",
       "    }\n",
       "\n",
       "    .dataframe tbody tr th {\n",
       "        vertical-align: top;\n",
       "    }\n",
       "\n",
       "    .dataframe thead th {\n",
       "        text-align: right;\n",
       "    }\n",
       "</style>\n",
       "<table border=\"1\" class=\"dataframe\">\n",
       "  <thead>\n",
       "    <tr style=\"text-align: right;\">\n",
       "      <th></th>\n",
       "      <th>id</th>\n",
       "      <th>title</th>\n",
       "      <th>url</th>\n",
       "      <th>writers</th>\n",
       "      <th>genres</th>\n",
       "      <th>script</th>\n",
       "    </tr>\n",
       "  </thead>\n",
       "  <tbody>\n",
       "    <tr>\n",
       "      <th>0</th>\n",
       "      <td>1</td>\n",
       "      <td>10 Things I Hate About You</td>\n",
       "      <td>http://www.imsdb.com/scripts/10-Things-I-Hate-...</td>\n",
       "      <td>Karen McCullah Lutz;Kirsten Smith;William Shak...</td>\n",
       "      <td>Comedy;Romance</td>\n",
       "      <td>\\n\\n\\n&lt;b&gt;&lt;!--\\n&lt;/b&gt;if (window!= top)\\ntop.loca...</td>\n",
       "    </tr>\n",
       "    <tr>\n",
       "      <th>1</th>\n",
       "      <td>2</td>\n",
       "      <td>12</td>\n",
       "      <td>http://www.imsdb.com/scripts/12.html</td>\n",
       "      <td>Lawrence Bridges</td>\n",
       "      <td>Comedy</td>\n",
       "      <td>\\n\\n  \\n  12 - Script\\n</td>\n",
       "    </tr>\n",
       "    <tr>\n",
       "      <th>2</th>\n",
       "      <td>3</td>\n",
       "      <td>12 and Holding</td>\n",
       "      <td>http://www.imsdb.com/scripts/12-and-Holding.html</td>\n",
       "      <td>Anthony Cipriano</td>\n",
       "      <td>Drama</td>\n",
       "      <td>\\n          \\n          \\n         ...</td>\n",
       "    </tr>\n",
       "    <tr>\n",
       "      <th>3</th>\n",
       "      <td>4</td>\n",
       "      <td>12 Monkeys</td>\n",
       "      <td>http://www.imsdb.com/scripts/12-Monkeys.html</td>\n",
       "      <td>David Peoples;Janet Peoples</td>\n",
       "      <td>Drama;Sci-Fi;Thriller</td>\n",
       "      <td>\\n\\n\\n&lt;b&gt;&lt;!--\\n&lt;/b&gt;if (window!= top)\\ntop.loca...</td>\n",
       "    </tr>\n",
       "    <tr>\n",
       "      <th>4</th>\n",
       "      <td>5</td>\n",
       "      <td>12 Years a Slave</td>\n",
       "      <td>http://www.imsdb.com/scripts/12-Years-a-Slave....</td>\n",
       "      <td>John Ridley</td>\n",
       "      <td>Drama</td>\n",
       "      <td>\\r\\n\\r\\n\\r\\n                             12 YE...</td>\n",
       "    </tr>\n",
       "  </tbody>\n",
       "</table>\n",
       "</div>"
      ],
      "text/plain": [
       "   id                       title  \\\n",
       "0   1  10 Things I Hate About You   \n",
       "1   2                          12   \n",
       "2   3              12 and Holding   \n",
       "3   4                  12 Monkeys   \n",
       "4   5            12 Years a Slave   \n",
       "\n",
       "                                                 url  \\\n",
       "0  http://www.imsdb.com/scripts/10-Things-I-Hate-...   \n",
       "1               http://www.imsdb.com/scripts/12.html   \n",
       "2   http://www.imsdb.com/scripts/12-and-Holding.html   \n",
       "3       http://www.imsdb.com/scripts/12-Monkeys.html   \n",
       "4  http://www.imsdb.com/scripts/12-Years-a-Slave....   \n",
       "\n",
       "                                             writers                 genres  \\\n",
       "0  Karen McCullah Lutz;Kirsten Smith;William Shak...         Comedy;Romance   \n",
       "1                                   Lawrence Bridges                 Comedy   \n",
       "2                                   Anthony Cipriano                  Drama   \n",
       "3                        David Peoples;Janet Peoples  Drama;Sci-Fi;Thriller   \n",
       "4                                        John Ridley                  Drama   \n",
       "\n",
       "                                              script  \n",
       "0  \\n\\n\\n<b><!--\\n</b>if (window!= top)\\ntop.loca...  \n",
       "1                            \\n\\n  \\n  12 - Script\\n  \n",
       "2             \\n          \\n          \\n         ...  \n",
       "3  \\n\\n\\n<b><!--\\n</b>if (window!= top)\\ntop.loca...  \n",
       "4  \\r\\n\\r\\n\\r\\n                             12 YE...  "
      ]
     },
     "execution_count": 4,
     "metadata": {},
     "output_type": "execute_result"
    }
   ],
   "source": [
    "data.head()"
   ]
  },
  {
   "cell_type": "markdown",
   "metadata": {},
   "source": [
    "### Define useful functions"
   ]
  },
  {
   "cell_type": "code",
   "execution_count": 5,
   "metadata": {},
   "outputs": [],
   "source": [
    "def get_movie_info(title, infocat):\n",
    "    i = IMDb()\n",
    "    # returns a list of movies w same or similar title; get the first for the best match\n",
    "    try:\n",
    "        movie = i.search_movie(title)[0]\n",
    "    except:\n",
    "        print('Erorr: did not find movie for ' + title+ '!')\n",
    "        movie = []\n",
    "    # only the important information is retrieved by default, so we need to update:\n",
    "    try:\n",
    "        i.update(movie, info=infocat)\n",
    "    except:\n",
    "        print('Erorr: did not find movie info for ' + title+ '!')\n",
    "    return movie"
   ]
  },
  {
   "cell_type": "code",
   "execution_count": 6,
   "metadata": {},
   "outputs": [],
   "source": [
    "def dic_to_pandas(dictionary, keystowrite, dataframe):\n",
    "    title = str(dictionary['title'].encode('utf-8'))\n",
    "    dataframe.loc[title] = ''\n",
    "    for key in keystowrite: #just items in python 3\n",
    "        try:\n",
    "            if type(dictionary[key])== list:\n",
    "                dataframe[key][title] = [x.encode('utf-8') for x in dictionary[key]]\n",
    "            else:\n",
    "                dataframe[key][title] = dictionary[key]\n",
    "        except:\n",
    "            print(dictionary['title'] + ': ' + key + ' not found')\n",
    "            dataframe[key][title] = 'NA'\n",
    "    return dataframe"
   ]
  },
  {
   "cell_type": "markdown",
   "metadata": {},
   "source": [
    "### Define variables of interest"
   ]
  },
  {
   "cell_type": "code",
   "execution_count": 7,
   "metadata": {},
   "outputs": [
    {
     "name": "stdout",
     "output_type": "stream",
     "text": [
      "['airing', 'akas', 'alternate versions', 'awards', 'connections', 'crazy credits', 'critic reviews', 'episodes', 'external reviews', 'external sites', 'faqs', 'full credits', 'goofs', 'keywords', 'locations', 'main', 'misc sites', 'news', 'official sites', 'parents guide', 'photo sites', 'plot', 'quotes', 'release dates', 'release info', 'reviews', 'sound clips', 'soundtrack', 'synopsis', 'taglines', 'technical', 'trivia', 'tv schedule', 'video clips', 'vote details']\n"
     ]
    }
   ],
   "source": [
    "i = IMDb()\n",
    "infocat = i.get_movie_infoset() # will get all available info\n",
    "infocat = [str(x) for x in infocat]\n",
    "print infocat"
   ]
  },
  {
   "cell_type": "code",
   "execution_count": 8,
   "metadata": {},
   "outputs": [],
   "source": [
    "infocat = ['critic reviews', 'locations',\n",
    "          'vote details', 'keywords', 'plot', 'main']"
   ]
  },
  {
   "cell_type": "code",
   "execution_count": 9,
   "metadata": {},
   "outputs": [],
   "source": [
    "infolist = ['metascore', 'locations', \n",
    "            'arithmetic mean', 'median', 'number of votes',\n",
    "            'keywords', 'plot', 'rating', 'year', 'votes', \n",
    "            'title', 'genres', 'original air date', 'box office']"
   ]
  },
  {
   "cell_type": "markdown",
   "metadata": {},
   "source": [
    "### Test scraping on a toy example"
   ]
  },
  {
   "cell_type": "code",
   "execution_count": 10,
   "metadata": {},
   "outputs": [],
   "source": [
    "title = 'Alien 3'"
   ]
  },
  {
   "cell_type": "code",
   "execution_count": 11,
   "metadata": {},
   "outputs": [],
   "source": [
    "test = get_movie_info(title, infocat)"
   ]
  },
  {
   "cell_type": "code",
   "execution_count": 12,
   "metadata": {},
   "outputs": [
    {
     "name": "stdout",
     "output_type": "stream",
     "text": [
      "{'plot': [u'plot', u'synopsis'], 'critic reviews': [u'metacritic url', u'metascore'], 'locations': [u'locations'], 'vote details': [u'arithmetic mean', u'demographics', u'median', u'number of votes'], 'keywords': [u'keywords'], 'main': [u'production managers', u'rating', u'special effects companies', u'distributors', u'music department', u'runtimes', u'special effects', u'thanks', u'year', u'production companies', u'color info', u'composers', u'costume designers', u'votes', u'visual effects', u'title', u'writer', u'editors', u'languages', u'cinematographers', u'writers', u'camera department', u'certificates', u'country codes', u'language codes', u'cover url', u'director', u'casting department', u'editorial department', u'assistant directors', u'sound mix', u'location management', u'genres', u'miscellaneous', u'producers', u'animation department', u'set decorators', u'original air date', u'costume departmen', u'akas', u'aspect ratio', u'sound department', u'stunts', u'kind', u'make up department', u'other companies', u'art department', u'countries', u'transportation department', u'plot outline', u'cast', u'directors', u'art directors', u'production designers', u'box office']}\n"
     ]
    }
   ],
   "source": [
    "print(test.infoset2keys)"
   ]
  },
  {
   "cell_type": "code",
   "execution_count": 13,
   "metadata": {},
   "outputs": [],
   "source": [
    "df = pd.DataFrame(columns=infolist)"
   ]
  },
  {
   "cell_type": "code",
   "execution_count": 14,
   "metadata": {},
   "outputs": [
    {
     "data": {
      "text/html": [
       "<div>\n",
       "<style scoped>\n",
       "    .dataframe tbody tr th:only-of-type {\n",
       "        vertical-align: middle;\n",
       "    }\n",
       "\n",
       "    .dataframe tbody tr th {\n",
       "        vertical-align: top;\n",
       "    }\n",
       "\n",
       "    .dataframe thead th {\n",
       "        text-align: right;\n",
       "    }\n",
       "</style>\n",
       "<table border=\"1\" class=\"dataframe\">\n",
       "  <thead>\n",
       "    <tr style=\"text-align: right;\">\n",
       "      <th></th>\n",
       "      <th>metascore</th>\n",
       "      <th>locations</th>\n",
       "      <th>arithmetic mean</th>\n",
       "      <th>median</th>\n",
       "      <th>number of votes</th>\n",
       "      <th>keywords</th>\n",
       "      <th>plot</th>\n",
       "      <th>rating</th>\n",
       "      <th>year</th>\n",
       "      <th>votes</th>\n",
       "      <th>title</th>\n",
       "      <th>genres</th>\n",
       "      <th>original air date</th>\n",
       "      <th>box office</th>\n",
       "    </tr>\n",
       "  </thead>\n",
       "  <tbody>\n",
       "    <tr>\n",
       "      <th>Alien³</th>\n",
       "      <td>59</td>\n",
       "      <td>[Blyth Power Station, Northumberland, England,...</td>\n",
       "      <td>6.3</td>\n",
       "      <td>7</td>\n",
       "      <td>{1: 8042, 2: 6221, 3: 8420, 4: 13436, 5: 28611...</td>\n",
       "      <td>[alien, prison, android, cryogenics, cult-film...</td>\n",
       "      <td>[After her last encounter, Ellen Ripley crash-...</td>\n",
       "      <td>6.5</td>\n",
       "      <td>1992</td>\n",
       "      <td>257615</td>\n",
       "      <td>Alien³</td>\n",
       "      <td>[Action, Horror, Sci-Fi]</td>\n",
       "      <td>22 May 1992 (USA)</td>\n",
       "      <td>{u'Opening Weekend United States': u'$23,141,1...</td>\n",
       "    </tr>\n",
       "  </tbody>\n",
       "</table>\n",
       "</div>"
      ],
      "text/plain": [
       "       metascore                                          locations  \\\n",
       "Alien³        59  [Blyth Power Station, Northumberland, England,...   \n",
       "\n",
       "       arithmetic mean median  \\\n",
       "Alien³             6.3      7   \n",
       "\n",
       "                                          number of votes  \\\n",
       "Alien³  {1: 8042, 2: 6221, 3: 8420, 4: 13436, 5: 28611...   \n",
       "\n",
       "                                                 keywords  \\\n",
       "Alien³  [alien, prison, android, cryogenics, cult-film...   \n",
       "\n",
       "                                                     plot rating  year  \\\n",
       "Alien³  [After her last encounter, Ellen Ripley crash-...    6.5  1992   \n",
       "\n",
       "         votes   title                    genres  original air date  \\\n",
       "Alien³  257615  Alien³  [Action, Horror, Sci-Fi]  22 May 1992 (USA)   \n",
       "\n",
       "                                               box office  \n",
       "Alien³  {u'Opening Weekend United States': u'$23,141,1...  "
      ]
     },
     "execution_count": 14,
     "metadata": {},
     "output_type": "execute_result"
    }
   ],
   "source": [
    "dic_to_pandas(test, infolist, df)\n",
    "#pd.DataFrame.to_csv(df, 'test.csv')\n",
    "df.head()"
   ]
  },
  {
   "cell_type": "markdown",
   "metadata": {},
   "source": [
    "### Scrape movies"
   ]
  },
  {
   "cell_type": "code",
   "execution_count": 15,
   "metadata": {},
   "outputs": [],
   "source": [
    "titles = data.title\n",
    "df = pd.DataFrame(columns=infolist)"
   ]
  },
  {
   "cell_type": "code",
   "execution_count": 16,
   "metadata": {},
   "outputs": [
    {
     "data": {
      "text/plain": [
       "1118"
      ]
     },
     "execution_count": 16,
     "metadata": {},
     "output_type": "execute_result"
    }
   ],
   "source": [
    "len(titles)"
   ]
  },
  {
   "cell_type": "code",
   "execution_count": 17,
   "metadata": {},
   "outputs": [
    {
     "name": "stdout",
     "output_type": "stream",
     "text": [
      "100% completed\n"
     ]
    }
   ],
   "source": [
    "for i, title in enumerate(titles):\n",
    "    print('currently scraping ' + title)\n",
    "    fetchedinfo = get_movie_info(title, infocat)\n",
    "    if len(fetchedinfo) > 0:\n",
    "        df = dic_to_pandas(fetchedinfo, infolist, df)\n",
    "        clear_output(wait=True)\n",
    "        print(str((i+1)*100/len(titles)) + '% completed'); "
   ]
  },
  {
   "cell_type": "code",
   "execution_count": 20,
   "metadata": {},
   "outputs": [
    {
     "data": {
      "text/html": [
       "<div>\n",
       "<style scoped>\n",
       "    .dataframe tbody tr th:only-of-type {\n",
       "        vertical-align: middle;\n",
       "    }\n",
       "\n",
       "    .dataframe tbody tr th {\n",
       "        vertical-align: top;\n",
       "    }\n",
       "\n",
       "    .dataframe thead th {\n",
       "        text-align: right;\n",
       "    }\n",
       "</style>\n",
       "<table border=\"1\" class=\"dataframe\">\n",
       "  <thead>\n",
       "    <tr style=\"text-align: right;\">\n",
       "      <th></th>\n",
       "      <th>metascore</th>\n",
       "      <th>locations</th>\n",
       "      <th>arithmetic mean</th>\n",
       "      <th>median</th>\n",
       "      <th>number of votes</th>\n",
       "      <th>keywords</th>\n",
       "      <th>plot</th>\n",
       "      <th>rating</th>\n",
       "      <th>year</th>\n",
       "      <th>votes</th>\n",
       "      <th>title</th>\n",
       "      <th>genres</th>\n",
       "      <th>original air date</th>\n",
       "      <th>box office</th>\n",
       "    </tr>\n",
       "  </thead>\n",
       "  <tbody>\n",
       "    <tr>\n",
       "      <th>10 Things I Hate About You</th>\n",
       "      <td>70</td>\n",
       "      <td>[Stadium High School - 111 N. E Street, Tacoma...</td>\n",
       "      <td>7.5</td>\n",
       "      <td>7</td>\n",
       "      <td>{1: 1652, 2: 1429, 3: 2456, 4: 5244, 5: 14191,...</td>\n",
       "      <td>[protective-father, dating, shakespeare-adapta...</td>\n",
       "      <td>[A pretty, popular teenager can't go out on a ...</td>\n",
       "      <td>7.3</td>\n",
       "      <td>1999</td>\n",
       "      <td>272380</td>\n",
       "      <td>10 Things I Hate About You</td>\n",
       "      <td>[Comedy, Drama, Romance]</td>\n",
       "      <td>31 Mar 1999 (USA)</td>\n",
       "      <td>{u'Opening Weekend United States': u'$8,330,68...</td>\n",
       "    </tr>\n",
       "    <tr>\n",
       "      <th>Twelve</th>\n",
       "      <td>22</td>\n",
       "      <td>[New York City, New York, USA, Studio City, Lo...</td>\n",
       "      <td>6</td>\n",
       "      <td>6</td>\n",
       "      <td>{1: 517, 2: 382, 3: 611, 4: 1050, 5: 1967, 6: ...</td>\n",
       "      <td>[younger-version-of-character, murder, generat...</td>\n",
       "      <td>[A young drug dealer watches as his high-rolli...</td>\n",
       "      <td>5.7</td>\n",
       "      <td>2010</td>\n",
       "      <td>11574</td>\n",
       "      <td>Twelve</td>\n",
       "      <td>[Action, Crime, Drama, Thriller]</td>\n",
       "      <td>06 Aug 2010 (USA)</td>\n",
       "      <td>{u'Opening Weekend United States': u'$110,238,...</td>\n",
       "    </tr>\n",
       "    <tr>\n",
       "      <th>12 and Holding</th>\n",
       "      <td>65</td>\n",
       "      <td>[Rochelle Park, New Jersey, USA, Haledon, New ...</td>\n",
       "      <td>7.7</td>\n",
       "      <td>8</td>\n",
       "      <td>{1: 79, 2: 31, 3: 56, 4: 69, 5: 226, 6: 610, 7...</td>\n",
       "      <td>[male-objectification, shirtless-wood-chopping...</td>\n",
       "      <td>[After his twin brother is accidentally killed...</td>\n",
       "      <td>7.5</td>\n",
       "      <td>2005</td>\n",
       "      <td>6510</td>\n",
       "      <td>12 and Holding</td>\n",
       "      <td>[Drama]</td>\n",
       "      <td>07 Jul 2006 (Sweden)</td>\n",
       "      <td>{u'Opening Weekend United States': u'$11,456, ...</td>\n",
       "    </tr>\n",
       "    <tr>\n",
       "      <th>Twelve Monkeys</th>\n",
       "      <td>74</td>\n",
       "      <td>[Eastern State Penitentiary - 2124 Fairmont Av...</td>\n",
       "      <td>8</td>\n",
       "      <td>8</td>\n",
       "      <td>{1: 4086, 2: 2108, 3: 3096, 4: 5573, 5: 12495,...</td>\n",
       "      <td>[time-travel, virus, mental-institution, under...</td>\n",
       "      <td>[In a future world devastated by disease, a co...</td>\n",
       "      <td>8</td>\n",
       "      <td>1995</td>\n",
       "      <td>542653</td>\n",
       "      <td>Twelve Monkeys</td>\n",
       "      <td>[Mystery, Sci-Fi, Thriller]</td>\n",
       "      <td>05 Jan 1996 (USA)</td>\n",
       "      <td>{u'Opening Weekend United States': u'$14,200,0...</td>\n",
       "    </tr>\n",
       "    <tr>\n",
       "      <th>12 Years a Slave</th>\n",
       "      <td>96</td>\n",
       "      <td>[Madame John's Legacy, the French Quarter, New...</td>\n",
       "      <td>8.1</td>\n",
       "      <td>8</td>\n",
       "      <td>{1: 5391, 2: 2109, 3: 2797, 4: 4659, 5: 11224,...</td>\n",
       "      <td>[torture, kidnapping, racism, whipping, slaver...</td>\n",
       "      <td>[In the antebellum United States, Solomon Nort...</td>\n",
       "      <td>8.1</td>\n",
       "      <td>2013</td>\n",
       "      <td>582893</td>\n",
       "      <td>12 Years a Slave</td>\n",
       "      <td>[Biography, Drama, History]</td>\n",
       "      <td>08 Nov 2013 (USA)</td>\n",
       "      <td>{u'Opening Weekend United States': u'$923,715,...</td>\n",
       "    </tr>\n",
       "  </tbody>\n",
       "</table>\n",
       "</div>"
      ],
      "text/plain": [
       "                           metascore  \\\n",
       "10 Things I Hate About You        70   \n",
       "Twelve                            22   \n",
       "12 and Holding                    65   \n",
       "Twelve Monkeys                    74   \n",
       "12 Years a Slave                  96   \n",
       "\n",
       "                                                                    locations  \\\n",
       "10 Things I Hate About You  [Stadium High School - 111 N. E Street, Tacoma...   \n",
       "Twelve                      [New York City, New York, USA, Studio City, Lo...   \n",
       "12 and Holding              [Rochelle Park, New Jersey, USA, Haledon, New ...   \n",
       "Twelve Monkeys              [Eastern State Penitentiary - 2124 Fairmont Av...   \n",
       "12 Years a Slave            [Madame John's Legacy, the French Quarter, New...   \n",
       "\n",
       "                           arithmetic mean median  \\\n",
       "10 Things I Hate About You             7.5      7   \n",
       "Twelve                                   6      6   \n",
       "12 and Holding                         7.7      8   \n",
       "Twelve Monkeys                           8      8   \n",
       "12 Years a Slave                       8.1      8   \n",
       "\n",
       "                                                              number of votes  \\\n",
       "10 Things I Hate About You  {1: 1652, 2: 1429, 3: 2456, 4: 5244, 5: 14191,...   \n",
       "Twelve                      {1: 517, 2: 382, 3: 611, 4: 1050, 5: 1967, 6: ...   \n",
       "12 and Holding              {1: 79, 2: 31, 3: 56, 4: 69, 5: 226, 6: 610, 7...   \n",
       "Twelve Monkeys              {1: 4086, 2: 2108, 3: 3096, 4: 5573, 5: 12495,...   \n",
       "12 Years a Slave            {1: 5391, 2: 2109, 3: 2797, 4: 4659, 5: 11224,...   \n",
       "\n",
       "                                                                     keywords  \\\n",
       "10 Things I Hate About You  [protective-father, dating, shakespeare-adapta...   \n",
       "Twelve                      [younger-version-of-character, murder, generat...   \n",
       "12 and Holding              [male-objectification, shirtless-wood-chopping...   \n",
       "Twelve Monkeys              [time-travel, virus, mental-institution, under...   \n",
       "12 Years a Slave            [torture, kidnapping, racism, whipping, slaver...   \n",
       "\n",
       "                                                                         plot  \\\n",
       "10 Things I Hate About You  [A pretty, popular teenager can't go out on a ...   \n",
       "Twelve                      [A young drug dealer watches as his high-rolli...   \n",
       "12 and Holding              [After his twin brother is accidentally killed...   \n",
       "Twelve Monkeys              [In a future world devastated by disease, a co...   \n",
       "12 Years a Slave            [In the antebellum United States, Solomon Nort...   \n",
       "\n",
       "                           rating  year   votes                       title  \\\n",
       "10 Things I Hate About You    7.3  1999  272380  10 Things I Hate About You   \n",
       "Twelve                        5.7  2010   11574                      Twelve   \n",
       "12 and Holding                7.5  2005    6510              12 and Holding   \n",
       "Twelve Monkeys                  8  1995  542653              Twelve Monkeys   \n",
       "12 Years a Slave              8.1  2013  582893            12 Years a Slave   \n",
       "\n",
       "                                                      genres  \\\n",
       "10 Things I Hate About You          [Comedy, Drama, Romance]   \n",
       "Twelve                      [Action, Crime, Drama, Thriller]   \n",
       "12 and Holding                                       [Drama]   \n",
       "Twelve Monkeys                   [Mystery, Sci-Fi, Thriller]   \n",
       "12 Years a Slave                 [Biography, Drama, History]   \n",
       "\n",
       "                               original air date  \\\n",
       "10 Things I Hate About You     31 Mar 1999 (USA)   \n",
       "Twelve                         06 Aug 2010 (USA)   \n",
       "12 and Holding              07 Jul 2006 (Sweden)   \n",
       "Twelve Monkeys                 05 Jan 1996 (USA)   \n",
       "12 Years a Slave               08 Nov 2013 (USA)   \n",
       "\n",
       "                                                                   box office  \n",
       "10 Things I Hate About You  {u'Opening Weekend United States': u'$8,330,68...  \n",
       "Twelve                      {u'Opening Weekend United States': u'$110,238,...  \n",
       "12 and Holding              {u'Opening Weekend United States': u'$11,456, ...  \n",
       "Twelve Monkeys              {u'Opening Weekend United States': u'$14,200,0...  \n",
       "12 Years a Slave            {u'Opening Weekend United States': u'$923,715,...  "
      ]
     },
     "execution_count": 20,
     "metadata": {},
     "output_type": "execute_result"
    }
   ],
   "source": [
    "df.head()"
   ]
  },
  {
   "cell_type": "code",
   "execution_count": 21,
   "metadata": {},
   "outputs": [],
   "source": [
    "pd.DataFrame.to_csv(df, 'IMDBscraped.csv', encoding = 'utf-8')"
   ]
  }
 ],
 "metadata": {
  "kernelspec": {
   "display_name": "Python 2",
   "language": "python",
   "name": "python2"
  },
  "language_info": {
   "codemirror_mode": {
    "name": "ipython",
    "version": 2
   },
   "file_extension": ".py",
   "mimetype": "text/x-python",
   "name": "python",
   "nbconvert_exporter": "python",
   "pygments_lexer": "ipython2",
   "version": "2.7.15"
  }
 },
 "nbformat": 4,
 "nbformat_minor": 2
}
