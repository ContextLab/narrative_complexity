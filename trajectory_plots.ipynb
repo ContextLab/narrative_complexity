{
 "cells": [
  {
   "cell_type": "code",
   "execution_count": 2,
   "metadata": {},
   "outputs": [],
   "source": [
    "import os\n",
    "import requests as req\n",
    "import seaborn as sns\n",
    "import hypertools as hyp\n",
    "import pandas as pd\n",
    "import numpy as np\n",
    "from downloader import download_file_from_google_drive as dl\n",
    "\n",
    "%matplotlib inline"
   ]
  },
  {
   "cell_type": "code",
   "execution_count": 5,
   "metadata": {},
   "outputs": [
    {
     "name": "stdout",
     "output_type": "stream",
     "text": [
      "Fetching file from the interwebz!\n"
     ]
    }
   ],
   "source": [
    "fileid = '1hCCn31z4HM4IzQi59DP-vvUpYKhlvo2S'\n",
    "datadir = 'data'\n",
    "fname = os.path.join(datadir, 'data.csv')\n",
    "\n",
    "if not os.path.exists(datadir):\n",
    "    os.makedirs(datadir)\n",
    "    \n",
    "if not os.path.exists(fname):\n",
    "    print('Fetching file from the interwebz!')\n",
    "    dl(fileid, fname)\n",
    "else:\n",
    "    print('Data found!')"
   ]
  },
  {
   "cell_type": "code",
   "execution_count": 6,
   "metadata": {},
   "outputs": [],
   "source": [
    "data = pd.read_csv(fname)"
   ]
  },
  {
   "cell_type": "code",
   "execution_count": 7,
   "metadata": {},
   "outputs": [
    {
     "data": {
      "text/html": [
       "<div>\n",
       "<style scoped>\n",
       "    .dataframe tbody tr th:only-of-type {\n",
       "        vertical-align: middle;\n",
       "    }\n",
       "\n",
       "    .dataframe tbody tr th {\n",
       "        vertical-align: top;\n",
       "    }\n",
       "\n",
       "    .dataframe thead th {\n",
       "        text-align: right;\n",
       "    }\n",
       "</style>\n",
       "<table border=\"1\" class=\"dataframe\">\n",
       "  <thead>\n",
       "    <tr style=\"text-align: right;\">\n",
       "      <th></th>\n",
       "      <th>id</th>\n",
       "      <th>title</th>\n",
       "      <th>url</th>\n",
       "      <th>writers</th>\n",
       "      <th>genres</th>\n",
       "      <th>script</th>\n",
       "    </tr>\n",
       "  </thead>\n",
       "  <tbody>\n",
       "    <tr>\n",
       "      <th>0</th>\n",
       "      <td>1</td>\n",
       "      <td>10 Things I Hate About You</td>\n",
       "      <td>http://www.imsdb.com/scripts/10-Things-I-Hate-...</td>\n",
       "      <td>Karen McCullah Lutz;Kirsten Smith;William Shak...</td>\n",
       "      <td>Comedy;Romance</td>\n",
       "      <td>\\n\\n\\n&lt;b&gt;&lt;!--\\n&lt;/b&gt;if (window!= top)\\ntop.loca...</td>\n",
       "    </tr>\n",
       "    <tr>\n",
       "      <th>1</th>\n",
       "      <td>2</td>\n",
       "      <td>12</td>\n",
       "      <td>http://www.imsdb.com/scripts/12.html</td>\n",
       "      <td>Lawrence Bridges</td>\n",
       "      <td>Comedy</td>\n",
       "      <td>\\n\\n  \\n  12 - Script\\n</td>\n",
       "    </tr>\n",
       "    <tr>\n",
       "      <th>2</th>\n",
       "      <td>3</td>\n",
       "      <td>12 and Holding</td>\n",
       "      <td>http://www.imsdb.com/scripts/12-and-Holding.html</td>\n",
       "      <td>Anthony Cipriano</td>\n",
       "      <td>Drama</td>\n",
       "      <td>\\n          \\n          \\n         ...</td>\n",
       "    </tr>\n",
       "    <tr>\n",
       "      <th>3</th>\n",
       "      <td>4</td>\n",
       "      <td>12 Monkeys</td>\n",
       "      <td>http://www.imsdb.com/scripts/12-Monkeys.html</td>\n",
       "      <td>David Peoples;Janet Peoples</td>\n",
       "      <td>Drama;Sci-Fi;Thriller</td>\n",
       "      <td>\\n\\n\\n&lt;b&gt;&lt;!--\\n&lt;/b&gt;if (window!= top)\\ntop.loca...</td>\n",
       "    </tr>\n",
       "    <tr>\n",
       "      <th>4</th>\n",
       "      <td>5</td>\n",
       "      <td>12 Years a Slave</td>\n",
       "      <td>http://www.imsdb.com/scripts/12-Years-a-Slave....</td>\n",
       "      <td>John Ridley</td>\n",
       "      <td>Drama</td>\n",
       "      <td>\\r\\n\\r\\n\\r\\n                             12 YE...</td>\n",
       "    </tr>\n",
       "  </tbody>\n",
       "</table>\n",
       "</div>"
      ],
      "text/plain": [
       "   id                       title  \\\n",
       "0   1  10 Things I Hate About You   \n",
       "1   2                          12   \n",
       "2   3              12 and Holding   \n",
       "3   4                  12 Monkeys   \n",
       "4   5            12 Years a Slave   \n",
       "\n",
       "                                                 url  \\\n",
       "0  http://www.imsdb.com/scripts/10-Things-I-Hate-...   \n",
       "1               http://www.imsdb.com/scripts/12.html   \n",
       "2   http://www.imsdb.com/scripts/12-and-Holding.html   \n",
       "3       http://www.imsdb.com/scripts/12-Monkeys.html   \n",
       "4  http://www.imsdb.com/scripts/12-Years-a-Slave....   \n",
       "\n",
       "                                             writers                 genres  \\\n",
       "0  Karen McCullah Lutz;Kirsten Smith;William Shak...         Comedy;Romance   \n",
       "1                                   Lawrence Bridges                 Comedy   \n",
       "2                                   Anthony Cipriano                  Drama   \n",
       "3                        David Peoples;Janet Peoples  Drama;Sci-Fi;Thriller   \n",
       "4                                        John Ridley                  Drama   \n",
       "\n",
       "                                              script  \n",
       "0  \\n\\n\\n<b><!--\\n</b>if (window!= top)\\ntop.loca...  \n",
       "1                            \\n\\n  \\n  12 - Script\\n  \n",
       "2             \\n          \\n          \\n         ...  \n",
       "3  \\n\\n\\n<b><!--\\n</b>if (window!= top)\\ntop.loca...  \n",
       "4  \\r\\n\\r\\n\\r\\n                             12 YE...  "
      ]
     },
     "execution_count": 7,
     "metadata": {},
     "output_type": "execute_result"
    }
   ],
   "source": [
    "data.head()"
   ]
  }
 ],
 "metadata": {
  "kernelspec": {
   "display_name": "Python 3",
   "language": "python",
   "name": "python3"
  },
  "language_info": {
   "codemirror_mode": {
    "name": "ipython",
    "version": 3
   },
   "file_extension": ".py",
   "mimetype": "text/x-python",
   "name": "python",
   "nbconvert_exporter": "python",
   "pygments_lexer": "ipython3",
   "version": "3.7.3"
  }
 },
 "nbformat": 4,
 "nbformat_minor": 2
}
