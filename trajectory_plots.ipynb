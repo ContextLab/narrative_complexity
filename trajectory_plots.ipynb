{
 "cells": [
  {
   "cell_type": "code",
   "execution_count": 38,
   "metadata": {},
   "outputs": [],
   "source": [
    "import os\n",
    "import requests as req\n",
    "import seaborn as sns\n",
    "import hypertools as hyp\n",
    "import pandas as pd\n",
    "import numpy as np\n",
    "from downloader import download_file_from_google_drive as dl\n",
    "import html2text\n",
    "import markdown\n",
    "from bs4 import BeautifulSoup\n",
    "from scipy.spatial.distance import cdist, pdist, squareform\n",
    "\n",
    "%matplotlib inline"
   ]
  },
  {
   "cell_type": "code",
   "execution_count": 2,
   "metadata": {},
   "outputs": [
    {
     "name": "stdout",
     "output_type": "stream",
     "text": [
      "Data found!\n"
     ]
    }
   ],
   "source": [
    "fileid = '1hCCn31z4HM4IzQi59DP-vvUpYKhlvo2S'\n",
    "datadir = 'data'\n",
    "fname = os.path.join(datadir, 'data.csv')\n",
    "\n",
    "if not os.path.exists(datadir):\n",
    "    os.makedirs(datadir)\n",
    "    \n",
    "if not os.path.exists(fname):\n",
    "    print('Fetching file from the interwebz!')\n",
    "    dl(fileid, fname)\n",
    "else:\n",
    "    print('Data found!')"
   ]
  },
  {
   "cell_type": "code",
   "execution_count": 3,
   "metadata": {},
   "outputs": [],
   "source": [
    "data = pd.read_csv(fname)"
   ]
  },
  {
   "cell_type": "code",
   "execution_count": 4,
   "metadata": {},
   "outputs": [
    {
     "data": {
      "text/html": [
       "<div>\n",
       "<style scoped>\n",
       "    .dataframe tbody tr th:only-of-type {\n",
       "        vertical-align: middle;\n",
       "    }\n",
       "\n",
       "    .dataframe tbody tr th {\n",
       "        vertical-align: top;\n",
       "    }\n",
       "\n",
       "    .dataframe thead th {\n",
       "        text-align: right;\n",
       "    }\n",
       "</style>\n",
       "<table border=\"1\" class=\"dataframe\">\n",
       "  <thead>\n",
       "    <tr style=\"text-align: right;\">\n",
       "      <th></th>\n",
       "      <th>id</th>\n",
       "      <th>title</th>\n",
       "      <th>url</th>\n",
       "      <th>writers</th>\n",
       "      <th>genres</th>\n",
       "      <th>script</th>\n",
       "    </tr>\n",
       "  </thead>\n",
       "  <tbody>\n",
       "    <tr>\n",
       "      <th>0</th>\n",
       "      <td>1</td>\n",
       "      <td>10 Things I Hate About You</td>\n",
       "      <td>http://www.imsdb.com/scripts/10-Things-I-Hate-...</td>\n",
       "      <td>Karen McCullah Lutz;Kirsten Smith;William Shak...</td>\n",
       "      <td>Comedy;Romance</td>\n",
       "      <td>\\n\\n\\n&lt;b&gt;&lt;!--\\n&lt;/b&gt;if (window!= top)\\ntop.loca...</td>\n",
       "    </tr>\n",
       "    <tr>\n",
       "      <th>1</th>\n",
       "      <td>2</td>\n",
       "      <td>12</td>\n",
       "      <td>http://www.imsdb.com/scripts/12.html</td>\n",
       "      <td>Lawrence Bridges</td>\n",
       "      <td>Comedy</td>\n",
       "      <td>\\n\\n  \\n  12 - Script\\n</td>\n",
       "    </tr>\n",
       "    <tr>\n",
       "      <th>2</th>\n",
       "      <td>3</td>\n",
       "      <td>12 and Holding</td>\n",
       "      <td>http://www.imsdb.com/scripts/12-and-Holding.html</td>\n",
       "      <td>Anthony Cipriano</td>\n",
       "      <td>Drama</td>\n",
       "      <td>\\n          \\n          \\n         ...</td>\n",
       "    </tr>\n",
       "    <tr>\n",
       "      <th>3</th>\n",
       "      <td>4</td>\n",
       "      <td>12 Monkeys</td>\n",
       "      <td>http://www.imsdb.com/scripts/12-Monkeys.html</td>\n",
       "      <td>David Peoples;Janet Peoples</td>\n",
       "      <td>Drama;Sci-Fi;Thriller</td>\n",
       "      <td>\\n\\n\\n&lt;b&gt;&lt;!--\\n&lt;/b&gt;if (window!= top)\\ntop.loca...</td>\n",
       "    </tr>\n",
       "    <tr>\n",
       "      <th>4</th>\n",
       "      <td>5</td>\n",
       "      <td>12 Years a Slave</td>\n",
       "      <td>http://www.imsdb.com/scripts/12-Years-a-Slave....</td>\n",
       "      <td>John Ridley</td>\n",
       "      <td>Drama</td>\n",
       "      <td>\\r\\n\\r\\n\\r\\n                             12 YE...</td>\n",
       "    </tr>\n",
       "  </tbody>\n",
       "</table>\n",
       "</div>"
      ],
      "text/plain": [
       "   id                       title  \\\n",
       "0   1  10 Things I Hate About You   \n",
       "1   2                          12   \n",
       "2   3              12 and Holding   \n",
       "3   4                  12 Monkeys   \n",
       "4   5            12 Years a Slave   \n",
       "\n",
       "                                                 url  \\\n",
       "0  http://www.imsdb.com/scripts/10-Things-I-Hate-...   \n",
       "1               http://www.imsdb.com/scripts/12.html   \n",
       "2   http://www.imsdb.com/scripts/12-and-Holding.html   \n",
       "3       http://www.imsdb.com/scripts/12-Monkeys.html   \n",
       "4  http://www.imsdb.com/scripts/12-Years-a-Slave....   \n",
       "\n",
       "                                             writers                 genres  \\\n",
       "0  Karen McCullah Lutz;Kirsten Smith;William Shak...         Comedy;Romance   \n",
       "1                                   Lawrence Bridges                 Comedy   \n",
       "2                                   Anthony Cipriano                  Drama   \n",
       "3                        David Peoples;Janet Peoples  Drama;Sci-Fi;Thriller   \n",
       "4                                        John Ridley                  Drama   \n",
       "\n",
       "                                              script  \n",
       "0  \\n\\n\\n<b><!--\\n</b>if (window!= top)\\ntop.loca...  \n",
       "1                            \\n\\n  \\n  12 - Script\\n  \n",
       "2             \\n          \\n          \\n         ...  \n",
       "3  \\n\\n\\n<b><!--\\n</b>if (window!= top)\\ntop.loca...  \n",
       "4  \\r\\n\\r\\n\\r\\n                             12 YE...  "
      ]
     },
     "execution_count": 4,
     "metadata": {},
     "output_type": "execute_result"
    }
   ],
   "source": [
    "data.head()"
   ]
  },
  {
   "cell_type": "code",
   "execution_count": 20,
   "metadata": {},
   "outputs": [],
   "source": [
    "def wipe_formatting(script, rehtml=False):\n",
    "    parser = html2text.HTML2Text()\n",
    "    parser.wrap_links = True\n",
    "    parser.skip_internal_links = True\n",
    "    parser.inline_links = True\n",
    "    parser.ignore_anchors = True\n",
    "    parser.ignore_images = True\n",
    "    parser.ignore_emphasis = True\n",
    "    parser.ignore_links = True\n",
    "    text = parser.handle(script)\n",
    "    text = text.strip(' \\t\\n\\r')\n",
    "    if rehtml:\n",
    "        text = text.replace('\\n', '<br/>')\n",
    "        text = text.replace('\\\\', '')\n",
    "    md = markdown.markdown(text)\n",
    "    soup=BeautifulSoup(md,'html5lib')\n",
    "    soup=soup.get_text()\n",
    "    soup = soup.replace('\\n', ' ')\n",
    "    return soup\n",
    "\n",
    "def sliding_window(script, n=100, delim=' '):\n",
    "    words = wipe_formatting(script).split(delim)\n",
    "    x = []\n",
    "    for i in np.arange(len(words)-n):\n",
    "        x.append(delim.join(words[i:(i+n)]))\n",
    "    return x\n",
    "    "
   ]
  },
  {
   "cell_type": "code",
   "execution_count": 8,
   "metadata": {},
   "outputs": [],
   "source": [
    "x = wipe_formatting(data.iloc[0]['script'])"
   ]
  },
  {
   "cell_type": "code",
   "execution_count": 21,
   "metadata": {},
   "outputs": [],
   "source": [
    "x = sliding_window(data.iloc[0]['script'])"
   ]
  },
  {
   "cell_type": "code",
   "execution_count": 27,
   "metadata": {},
   "outputs": [],
   "source": [
    "y = hyp.tools.format_data(x)"
   ]
  },
  {
   "cell_type": "code",
   "execution_count": 33,
   "metadata": {},
   "outputs": [
    {
     "name": "stderr",
     "output_type": "stream",
     "text": [
      "/usr/local/lib/python3.7/site-packages/umap/spectral.py:229: UserWarning: Embedding a total of 51 separate connected components using meta-embedding (experimental)\n",
      "  n_components\n"
     ]
    },
    {
     "data": {
      "image/png": "[encoded data removed]",
      "text/plain": [
       "<Figure size 432x288 with 1 Axes>"
      ]
     },
     "metadata": {},
     "output_type": "display_data"
    },
    {
     "data": {
      "text/plain": [
       "<hypertools.datageometry.DataGeometry at 0x1584ced30>"
      ]
     },
     "execution_count": 33,
     "metadata": {},
     "output_type": "execute_result"
    }
   ],
   "source": [
    "hyp.plot(y, 'ko-', reduce='UMAP', ndims=2)"
   ]
  },
  {
   "cell_type": "code",
   "execution_count": null,
   "metadata": {},
   "outputs": [],
   "source": [
    "sns.heatmap(1 - squareform(pdist(y[0], 'correlation')))"
   ]
  },
  {
   "cell_type": "code",
   "execution_count": null,
   "metadata": {},
   "outputs": [],
   "source": []
  }
 ],
 "metadata": {
  "kernelspec": {
   "display_name": "Python 3",
   "language": "python",
   "name": "python3"
  },
  "language_info": {
   "codemirror_mode": {
    "name": "ipython",
    "version": 3
   },
   "file_extension": ".py",
   "mimetype": "text/x-python",
   "name": "python",
   "nbconvert_exporter": "python",
   "pygments_lexer": "ipython3",
   "version": "3.7.3"
  }
 },
 "nbformat": 4,
 "nbformat_minor": 2
}
